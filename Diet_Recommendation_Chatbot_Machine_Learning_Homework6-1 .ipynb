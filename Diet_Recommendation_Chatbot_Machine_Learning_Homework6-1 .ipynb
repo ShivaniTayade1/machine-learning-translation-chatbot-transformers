{
  "nbformat": 4,
  "nbformat_minor": 0,
  "metadata": {
    "colab": {
      "provenance": [],
      "gpuType": "V28"
    },
    "kernelspec": {
      "name": "python3",
      "display_name": "Python 3"
    },
    "language_info": {
      "name": "python"
    },
    "accelerator": "TPU",
    "widgets": {
      "application/vnd.jupyter.widget-state+json": {
        "1e8bf435bfb542558a0c44516e2b0582": {
          "model_module": "@jupyter-widgets/controls",
          "model_name": "HBoxModel",
          "model_module_version": "1.5.0",
          "state": {
            "_dom_classes": [],
            "_model_module": "@jupyter-widgets/controls",
            "_model_module_version": "1.5.0",
            "_model_name": "HBoxModel",
            "_view_count": null,
            "_view_module": "@jupyter-widgets/controls",
            "_view_module_version": "1.5.0",
            "_view_name": "HBoxView",
            "box_style": "",
            "children": [
              "IPY_MODEL_b52d9e14e5bf4ff38fd5514a8996e81a",
              "IPY_MODEL_e28d851e627047848df8b14c0c203f69",
              "IPY_MODEL_ded824ae96964d8eb048053a48ee9044"
            ],
            "layout": "IPY_MODEL_afede4ba60534e0482e308c71675130b"
          }
        },
        "b52d9e14e5bf4ff38fd5514a8996e81a": {
          "model_module": "@jupyter-widgets/controls",
          "model_name": "HTMLModel",
          "model_module_version": "1.5.0",
          "state": {
            "_dom_classes": [],
            "_model_module": "@jupyter-widgets/controls",
            "_model_module_version": "1.5.0",
            "_model_name": "HTMLModel",
            "_view_count": null,
            "_view_module": "@jupyter-widgets/controls",
            "_view_module_version": "1.5.0",
            "_view_name": "HTMLView",
            "description": "",
            "description_tooltip": null,
            "layout": "IPY_MODEL_1d62ad2dbd0e496a9e6aa070a5d6ced3",
            "placeholder": "​",
            "style": "IPY_MODEL_ecbfdd0b4ef04e7c99f1e93b5f6e3c94",
            "value": "README.md: 100%"
          }
        },
        "e28d851e627047848df8b14c0c203f69": {
          "model_module": "@jupyter-widgets/controls",
          "model_name": "FloatProgressModel",
          "model_module_version": "1.5.0",
          "state": {
            "_dom_classes": [],
            "_model_module": "@jupyter-widgets/controls",
            "_model_module_version": "1.5.0",
            "_model_name": "FloatProgressModel",
            "_view_count": null,
            "_view_module": "@jupyter-widgets/controls",
            "_view_module_version": "1.5.0",
            "_view_name": "ProgressView",
            "bar_style": "success",
            "description": "",
            "description_tooltip": null,
            "layout": "IPY_MODEL_21905b0628764fc5ac81a5432460687f",
            "max": 4698,
            "min": 0,
            "orientation": "horizontal",
            "style": "IPY_MODEL_dfecdbe515ce451d8ff4e0833a380a69",
            "value": 4698
          }
        },
        "ded824ae96964d8eb048053a48ee9044": {
          "model_module": "@jupyter-widgets/controls",
          "model_name": "HTMLModel",
          "model_module_version": "1.5.0",
          "state": {
            "_dom_classes": [],
            "_model_module": "@jupyter-widgets/controls",
            "_model_module_version": "1.5.0",
            "_model_name": "HTMLModel",
            "_view_count": null,
            "_view_module": "@jupyter-widgets/controls",
            "_view_module_version": "1.5.0",
            "_view_name": "HTMLView",
            "description": "",
            "description_tooltip": null,
            "layout": "IPY_MODEL_e51147c99dc14355a9c8c3afad84beb3",
            "placeholder": "​",
            "style": "IPY_MODEL_e299f2e5f1544f978dd7ff69ff0e6d2a",
            "value": " 4.70k/4.70k [00:00&lt;00:00, 98.3kB/s]"
          }
        },
        "afede4ba60534e0482e308c71675130b": {
          "model_module": "@jupyter-widgets/base",
          "model_name": "LayoutModel",
          "model_module_version": "1.2.0",
          "state": {
            "_model_module": "@jupyter-widgets/base",
            "_model_module_version": "1.2.0",
            "_model_name": "LayoutModel",
            "_view_count": null,
            "_view_module": "@jupyter-widgets/base",
            "_view_module_version": "1.2.0",
            "_view_name": "LayoutView",
            "align_content": null,
            "align_items": null,
            "align_self": null,
            "border": null,
            "bottom": null,
            "display": null,
            "flex": null,
            "flex_flow": null,
            "grid_area": null,
            "grid_auto_columns": null,
            "grid_auto_flow": null,
            "grid_auto_rows": null,
            "grid_column": null,
            "grid_gap": null,
            "grid_row": null,
            "grid_template_areas": null,
            "grid_template_columns": null,
            "grid_template_rows": null,
            "height": null,
            "justify_content": null,
            "justify_items": null,
            "left": null,
            "margin": null,
            "max_height": null,
            "max_width": null,
            "min_height": null,
            "min_width": null,
            "object_fit": null,
            "object_position": null,
            "order": null,
            "overflow": null,
            "overflow_x": null,
            "overflow_y": null,
            "padding": null,
            "right": null,
            "top": null,
            "visibility": null,
            "width": null
          }
        },
        "1d62ad2dbd0e496a9e6aa070a5d6ced3": {
          "model_module": "@jupyter-widgets/base",
          "model_name": "LayoutModel",
          "model_module_version": "1.2.0",
          "state": {
            "_model_module": "@jupyter-widgets/base",
            "_model_module_version": "1.2.0",
            "_model_name": "LayoutModel",
            "_view_count": null,
            "_view_module": "@jupyter-widgets/base",
            "_view_module_version": "1.2.0",
            "_view_name": "LayoutView",
            "align_content": null,
            "align_items": null,
            "align_self": null,
            "border": null,
            "bottom": null,
            "display": null,
            "flex": null,
            "flex_flow": null,
            "grid_area": null,
            "grid_auto_columns": null,
            "grid_auto_flow": null,
            "grid_auto_rows": null,
            "grid_column": null,
            "grid_gap": null,
            "grid_row": null,
            "grid_template_areas": null,
            "grid_template_columns": null,
            "grid_template_rows": null,
            "height": null,
            "justify_content": null,
            "justify_items": null,
            "left": null,
            "margin": null,
            "max_height": null,
            "max_width": null,
            "min_height": null,
            "min_width": null,
            "object_fit": null,
            "object_position": null,
            "order": null,
            "overflow": null,
            "overflow_x": null,
            "overflow_y": null,
            "padding": null,
            "right": null,
            "top": null,
            "visibility": null,
            "width": null
          }
        },
        "ecbfdd0b4ef04e7c99f1e93b5f6e3c94": {
          "model_module": "@jupyter-widgets/controls",
          "model_name": "DescriptionStyleModel",
          "model_module_version": "1.5.0",
          "state": {
            "_model_module": "@jupyter-widgets/controls",
            "_model_module_version": "1.5.0",
            "_model_name": "DescriptionStyleModel",
            "_view_count": null,
            "_view_module": "@jupyter-widgets/base",
            "_view_module_version": "1.2.0",
            "_view_name": "StyleView",
            "description_width": ""
          }
        },
        "21905b0628764fc5ac81a5432460687f": {
          "model_module": "@jupyter-widgets/base",
          "model_name": "LayoutModel",
          "model_module_version": "1.2.0",
          "state": {
            "_model_module": "@jupyter-widgets/base",
            "_model_module_version": "1.2.0",
            "_model_name": "LayoutModel",
            "_view_count": null,
            "_view_module": "@jupyter-widgets/base",
            "_view_module_version": "1.2.0",
            "_view_name": "LayoutView",
            "align_content": null,
            "align_items": null,
            "align_self": null,
            "border": null,
            "bottom": null,
            "display": null,
            "flex": null,
            "flex_flow": null,
            "grid_area": null,
            "grid_auto_columns": null,
            "grid_auto_flow": null,
            "grid_auto_rows": null,
            "grid_column": null,
            "grid_gap": null,
            "grid_row": null,
            "grid_template_areas": null,
            "grid_template_columns": null,
            "grid_template_rows": null,
            "height": null,
            "justify_content": null,
            "justify_items": null,
            "left": null,
            "margin": null,
            "max_height": null,
            "max_width": null,
            "min_height": null,
            "min_width": null,
            "object_fit": null,
            "object_position": null,
            "order": null,
            "overflow": null,
            "overflow_x": null,
            "overflow_y": null,
            "padding": null,
            "right": null,
            "top": null,
            "visibility": null,
            "width": null
          }
        },
        "dfecdbe515ce451d8ff4e0833a380a69": {
          "model_module": "@jupyter-widgets/controls",
          "model_name": "ProgressStyleModel",
          "model_module_version": "1.5.0",
          "state": {
            "_model_module": "@jupyter-widgets/controls",
            "_model_module_version": "1.5.0",
            "_model_name": "ProgressStyleModel",
            "_view_count": null,
            "_view_module": "@jupyter-widgets/base",
            "_view_module_version": "1.2.0",
            "_view_name": "StyleView",
            "bar_color": null,
            "description_width": ""
          }
        },
        "e51147c99dc14355a9c8c3afad84beb3": {
          "model_module": "@jupyter-widgets/base",
          "model_name": "LayoutModel",
          "model_module_version": "1.2.0",
          "state": {
            "_model_module": "@jupyter-widgets/base",
            "_model_module_version": "1.2.0",
            "_model_name": "LayoutModel",
            "_view_count": null,
            "_view_module": "@jupyter-widgets/base",
            "_view_module_version": "1.2.0",
            "_view_name": "LayoutView",
            "align_content": null,
            "align_items": null,
            "align_self": null,
            "border": null,
            "bottom": null,
            "display": null,
            "flex": null,
            "flex_flow": null,
            "grid_area": null,
            "grid_auto_columns": null,
            "grid_auto_flow": null,
            "grid_auto_rows": null,
            "grid_column": null,
            "grid_gap": null,
            "grid_row": null,
            "grid_template_areas": null,
            "grid_template_columns": null,
            "grid_template_rows": null,
            "height": null,
            "justify_content": null,
            "justify_items": null,
            "left": null,
            "margin": null,
            "max_height": null,
            "max_width": null,
            "min_height": null,
            "min_width": null,
            "object_fit": null,
            "object_position": null,
            "order": null,
            "overflow": null,
            "overflow_x": null,
            "overflow_y": null,
            "padding": null,
            "right": null,
            "top": null,
            "visibility": null,
            "width": null
          }
        },
        "e299f2e5f1544f978dd7ff69ff0e6d2a": {
          "model_module": "@jupyter-widgets/controls",
          "model_name": "DescriptionStyleModel",
          "model_module_version": "1.5.0",
          "state": {
            "_model_module": "@jupyter-widgets/controls",
            "_model_module_version": "1.5.0",
            "_model_name": "DescriptionStyleModel",
            "_view_count": null,
            "_view_module": "@jupyter-widgets/base",
            "_view_module_version": "1.2.0",
            "_view_name": "StyleView",
            "description_width": ""
          }
        },
        "e298888351264ef4aba9ead779b2fe12": {
          "model_module": "@jupyter-widgets/controls",
          "model_name": "HBoxModel",
          "model_module_version": "1.5.0",
          "state": {
            "_dom_classes": [],
            "_model_module": "@jupyter-widgets/controls",
            "_model_module_version": "1.5.0",
            "_model_name": "HBoxModel",
            "_view_count": null,
            "_view_module": "@jupyter-widgets/controls",
            "_view_module_version": "1.5.0",
            "_view_name": "HBoxView",
            "box_style": "",
            "children": [
              "IPY_MODEL_2776b819d071428ea097cdae7893fdd9",
              "IPY_MODEL_d262f3ebddc64e08842a4d2322d70765",
              "IPY_MODEL_bbfbe0c92d8e4b2fa5f1621cd49480e4"
            ],
            "layout": "IPY_MODEL_73c2c2eb0bc740bbbb7b7f5a34703089"
          }
        },
        "2776b819d071428ea097cdae7893fdd9": {
          "model_module": "@jupyter-widgets/controls",
          "model_name": "HTMLModel",
          "model_module_version": "1.5.0",
          "state": {
            "_dom_classes": [],
            "_model_module": "@jupyter-widgets/controls",
            "_model_module_version": "1.5.0",
            "_model_name": "HTMLModel",
            "_view_count": null,
            "_view_module": "@jupyter-widgets/controls",
            "_view_module_version": "1.5.0",
            "_view_name": "HTMLView",
            "description": "",
            "description_tooltip": null,
            "layout": "IPY_MODEL_84c2c8757d1b445490bb9b5edb3a80d0",
            "placeholder": "​",
            "style": "IPY_MODEL_0333df81406b4af48dca3246cfbcdf71",
            "value": "Cases_and_Responses%2Fcases_results.zip: 100%"
          }
        },
        "d262f3ebddc64e08842a4d2322d70765": {
          "model_module": "@jupyter-widgets/controls",
          "model_name": "FloatProgressModel",
          "model_module_version": "1.5.0",
          "state": {
            "_dom_classes": [],
            "_model_module": "@jupyter-widgets/controls",
            "_model_module_version": "1.5.0",
            "_model_name": "FloatProgressModel",
            "_view_count": null,
            "_view_module": "@jupyter-widgets/controls",
            "_view_module_version": "1.5.0",
            "_view_name": "ProgressView",
            "bar_style": "success",
            "description": "",
            "description_tooltip": null,
            "layout": "IPY_MODEL_dcd43e65ee8148fcbd5b22ec93adf79c",
            "max": 131103,
            "min": 0,
            "orientation": "horizontal",
            "style": "IPY_MODEL_1fe5da81e67b48279b68611cd393a0f7",
            "value": 131103
          }
        },
        "bbfbe0c92d8e4b2fa5f1621cd49480e4": {
          "model_module": "@jupyter-widgets/controls",
          "model_name": "HTMLModel",
          "model_module_version": "1.5.0",
          "state": {
            "_dom_classes": [],
            "_model_module": "@jupyter-widgets/controls",
            "_model_module_version": "1.5.0",
            "_model_name": "HTMLModel",
            "_view_count": null,
            "_view_module": "@jupyter-widgets/controls",
            "_view_module_version": "1.5.0",
            "_view_name": "HTMLView",
            "description": "",
            "description_tooltip": null,
            "layout": "IPY_MODEL_58c4604ebcf842f7a098b5676fc9b076",
            "placeholder": "​",
            "style": "IPY_MODEL_39e3e35bb19f4e65b9efd55e060bc091",
            "value": " 131k/131k [00:00&lt;00:00, 1.43MB/s]"
          }
        },
        "73c2c2eb0bc740bbbb7b7f5a34703089": {
          "model_module": "@jupyter-widgets/base",
          "model_name": "LayoutModel",
          "model_module_version": "1.2.0",
          "state": {
            "_model_module": "@jupyter-widgets/base",
            "_model_module_version": "1.2.0",
            "_model_name": "LayoutModel",
            "_view_count": null,
            "_view_module": "@jupyter-widgets/base",
            "_view_module_version": "1.2.0",
            "_view_name": "LayoutView",
            "align_content": null,
            "align_items": null,
            "align_self": null,
            "border": null,
            "bottom": null,
            "display": null,
            "flex": null,
            "flex_flow": null,
            "grid_area": null,
            "grid_auto_columns": null,
            "grid_auto_flow": null,
            "grid_auto_rows": null,
            "grid_column": null,
            "grid_gap": null,
            "grid_row": null,
            "grid_template_areas": null,
            "grid_template_columns": null,
            "grid_template_rows": null,
            "height": null,
            "justify_content": null,
            "justify_items": null,
            "left": null,
            "margin": null,
            "max_height": null,
            "max_width": null,
            "min_height": null,
            "min_width": null,
            "object_fit": null,
            "object_position": null,
            "order": null,
            "overflow": null,
            "overflow_x": null,
            "overflow_y": null,
            "padding": null,
            "right": null,
            "top": null,
            "visibility": null,
            "width": null
          }
        },
        "84c2c8757d1b445490bb9b5edb3a80d0": {
          "model_module": "@jupyter-widgets/base",
          "model_name": "LayoutModel",
          "model_module_version": "1.2.0",
          "state": {
            "_model_module": "@jupyter-widgets/base",
            "_model_module_version": "1.2.0",
            "_model_name": "LayoutModel",
            "_view_count": null,
            "_view_module": "@jupyter-widgets/base",
            "_view_module_version": "1.2.0",
            "_view_name": "LayoutView",
            "align_content": null,
            "align_items": null,
            "align_self": null,
            "border": null,
            "bottom": null,
            "display": null,
            "flex": null,
            "flex_flow": null,
            "grid_area": null,
            "grid_auto_columns": null,
            "grid_auto_flow": null,
            "grid_auto_rows": null,
            "grid_column": null,
            "grid_gap": null,
            "grid_row": null,
            "grid_template_areas": null,
            "grid_template_columns": null,
            "grid_template_rows": null,
            "height": null,
            "justify_content": null,
            "justify_items": null,
            "left": null,
            "margin": null,
            "max_height": null,
            "max_width": null,
            "min_height": null,
            "min_width": null,
            "object_fit": null,
            "object_position": null,
            "order": null,
            "overflow": null,
            "overflow_x": null,
            "overflow_y": null,
            "padding": null,
            "right": null,
            "top": null,
            "visibility": null,
            "width": null
          }
        },
        "0333df81406b4af48dca3246cfbcdf71": {
          "model_module": "@jupyter-widgets/controls",
          "model_name": "DescriptionStyleModel",
          "model_module_version": "1.5.0",
          "state": {
            "_model_module": "@jupyter-widgets/controls",
            "_model_module_version": "1.5.0",
            "_model_name": "DescriptionStyleModel",
            "_view_count": null,
            "_view_module": "@jupyter-widgets/base",
            "_view_module_version": "1.2.0",
            "_view_name": "StyleView",
            "description_width": ""
          }
        },
        "dcd43e65ee8148fcbd5b22ec93adf79c": {
          "model_module": "@jupyter-widgets/base",
          "model_name": "LayoutModel",
          "model_module_version": "1.2.0",
          "state": {
            "_model_module": "@jupyter-widgets/base",
            "_model_module_version": "1.2.0",
            "_model_name": "LayoutModel",
            "_view_count": null,
            "_view_module": "@jupyter-widgets/base",
            "_view_module_version": "1.2.0",
            "_view_name": "LayoutView",
            "align_content": null,
            "align_items": null,
            "align_self": null,
            "border": null,
            "bottom": null,
            "display": null,
            "flex": null,
            "flex_flow": null,
            "grid_area": null,
            "grid_auto_columns": null,
            "grid_auto_flow": null,
            "grid_auto_rows": null,
            "grid_column": null,
            "grid_gap": null,
            "grid_row": null,
            "grid_template_areas": null,
            "grid_template_columns": null,
            "grid_template_rows": null,
            "height": null,
            "justify_content": null,
            "justify_items": null,
            "left": null,
            "margin": null,
            "max_height": null,
            "max_width": null,
            "min_height": null,
            "min_width": null,
            "object_fit": null,
            "object_position": null,
            "order": null,
            "overflow": null,
            "overflow_x": null,
            "overflow_y": null,
            "padding": null,
            "right": null,
            "top": null,
            "visibility": null,
            "width": null
          }
        },
        "1fe5da81e67b48279b68611cd393a0f7": {
          "model_module": "@jupyter-widgets/controls",
          "model_name": "ProgressStyleModel",
          "model_module_version": "1.5.0",
          "state": {
            "_model_module": "@jupyter-widgets/controls",
            "_model_module_version": "1.5.0",
            "_model_name": "ProgressStyleModel",
            "_view_count": null,
            "_view_module": "@jupyter-widgets/base",
            "_view_module_version": "1.2.0",
            "_view_name": "StyleView",
            "bar_color": null,
            "description_width": ""
          }
        },
        "58c4604ebcf842f7a098b5676fc9b076": {
          "model_module": "@jupyter-widgets/base",
          "model_name": "LayoutModel",
          "model_module_version": "1.2.0",
          "state": {
            "_model_module": "@jupyter-widgets/base",
            "_model_module_version": "1.2.0",
            "_model_name": "LayoutModel",
            "_view_count": null,
            "_view_module": "@jupyter-widgets/base",
            "_view_module_version": "1.2.0",
            "_view_name": "LayoutView",
            "align_content": null,
            "align_items": null,
            "align_self": null,
            "border": null,
            "bottom": null,
            "display": null,
            "flex": null,
            "flex_flow": null,
            "grid_area": null,
            "grid_auto_columns": null,
            "grid_auto_flow": null,
            "grid_auto_rows": null,
            "grid_column": null,
            "grid_gap": null,
            "grid_row": null,
            "grid_template_areas": null,
            "grid_template_columns": null,
            "grid_template_rows": null,
            "height": null,
            "justify_content": null,
            "justify_items": null,
            "left": null,
            "margin": null,
            "max_height": null,
            "max_width": null,
            "min_height": null,
            "min_width": null,
            "object_fit": null,
            "object_position": null,
            "order": null,
            "overflow": null,
            "overflow_x": null,
            "overflow_y": null,
            "padding": null,
            "right": null,
            "top": null,
            "visibility": null,
            "width": null
          }
        },
        "39e3e35bb19f4e65b9efd55e060bc091": {
          "model_module": "@jupyter-widgets/controls",
          "model_name": "DescriptionStyleModel",
          "model_module_version": "1.5.0",
          "state": {
            "_model_module": "@jupyter-widgets/controls",
            "_model_module_version": "1.5.0",
            "_model_name": "DescriptionStyleModel",
            "_view_count": null,
            "_view_module": "@jupyter-widgets/base",
            "_view_module_version": "1.2.0",
            "_view_name": "StyleView",
            "description_width": ""
          }
        },
        "61e60e85849b45739cd006a577b95fe9": {
          "model_module": "@jupyter-widgets/controls",
          "model_name": "HBoxModel",
          "model_module_version": "1.5.0",
          "state": {
            "_dom_classes": [],
            "_model_module": "@jupyter-widgets/controls",
            "_model_module_version": "1.5.0",
            "_model_name": "HBoxModel",
            "_view_count": null,
            "_view_module": "@jupyter-widgets/controls",
            "_view_module_version": "1.5.0",
            "_view_name": "HBoxView",
            "box_style": "",
            "children": [
              "IPY_MODEL_0f72599f3cd04fa28f7bc178b720a425",
              "IPY_MODEL_b4217965eb2b4980be5a31b46b9b3712",
              "IPY_MODEL_99a117f5180643ad980539bed31119b6"
            ],
            "layout": "IPY_MODEL_37a221c691694aae82087546a958b1cd"
          }
        },
        "0f72599f3cd04fa28f7bc178b720a425": {
          "model_module": "@jupyter-widgets/controls",
          "model_name": "HTMLModel",
          "model_module_version": "1.5.0",
          "state": {
            "_dom_classes": [],
            "_model_module": "@jupyter-widgets/controls",
            "_model_module_version": "1.5.0",
            "_model_name": "HTMLModel",
            "_view_count": null,
            "_view_module": "@jupyter-widgets/controls",
            "_view_module_version": "1.5.0",
            "_view_name": "HTMLView",
            "description": "",
            "description_tooltip": null,
            "layout": "IPY_MODEL_0d6b8c7fafff43f1a357859eca4089f2",
            "placeholder": "​",
            "style": "IPY_MODEL_3502d80e6679449f808133da6bf9571e",
            "value": "(…)ases_and_Responses%2Fcases_results_1.zip: 100%"
          }
        },
        "b4217965eb2b4980be5a31b46b9b3712": {
          "model_module": "@jupyter-widgets/controls",
          "model_name": "FloatProgressModel",
          "model_module_version": "1.5.0",
          "state": {
            "_dom_classes": [],
            "_model_module": "@jupyter-widgets/controls",
            "_model_module_version": "1.5.0",
            "_model_name": "FloatProgressModel",
            "_view_count": null,
            "_view_module": "@jupyter-widgets/controls",
            "_view_module_version": "1.5.0",
            "_view_name": "ProgressView",
            "bar_style": "success",
            "description": "",
            "description_tooltip": null,
            "layout": "IPY_MODEL_18ce770b785f47ea95fb28bdc59dfceb",
            "max": 157826,
            "min": 0,
            "orientation": "horizontal",
            "style": "IPY_MODEL_251a91af2427455394476a9391c393a0",
            "value": 157826
          }
        },
        "99a117f5180643ad980539bed31119b6": {
          "model_module": "@jupyter-widgets/controls",
          "model_name": "HTMLModel",
          "model_module_version": "1.5.0",
          "state": {
            "_dom_classes": [],
            "_model_module": "@jupyter-widgets/controls",
            "_model_module_version": "1.5.0",
            "_model_name": "HTMLModel",
            "_view_count": null,
            "_view_module": "@jupyter-widgets/controls",
            "_view_module_version": "1.5.0",
            "_view_name": "HTMLView",
            "description": "",
            "description_tooltip": null,
            "layout": "IPY_MODEL_f4757f82a82b4ae18b26f11acc33d5ee",
            "placeholder": "​",
            "style": "IPY_MODEL_a935c1718d3f4d4a8666dbd3517a24a6",
            "value": " 158k/158k [00:00&lt;00:00, 2.03MB/s]"
          }
        },
        "37a221c691694aae82087546a958b1cd": {
          "model_module": "@jupyter-widgets/base",
          "model_name": "LayoutModel",
          "model_module_version": "1.2.0",
          "state": {
            "_model_module": "@jupyter-widgets/base",
            "_model_module_version": "1.2.0",
            "_model_name": "LayoutModel",
            "_view_count": null,
            "_view_module": "@jupyter-widgets/base",
            "_view_module_version": "1.2.0",
            "_view_name": "LayoutView",
            "align_content": null,
            "align_items": null,
            "align_self": null,
            "border": null,
            "bottom": null,
            "display": null,
            "flex": null,
            "flex_flow": null,
            "grid_area": null,
            "grid_auto_columns": null,
            "grid_auto_flow": null,
            "grid_auto_rows": null,
            "grid_column": null,
            "grid_gap": null,
            "grid_row": null,
            "grid_template_areas": null,
            "grid_template_columns": null,
            "grid_template_rows": null,
            "height": null,
            "justify_content": null,
            "justify_items": null,
            "left": null,
            "margin": null,
            "max_height": null,
            "max_width": null,
            "min_height": null,
            "min_width": null,
            "object_fit": null,
            "object_position": null,
            "order": null,
            "overflow": null,
            "overflow_x": null,
            "overflow_y": null,
            "padding": null,
            "right": null,
            "top": null,
            "visibility": null,
            "width": null
          }
        },
        "0d6b8c7fafff43f1a357859eca4089f2": {
          "model_module": "@jupyter-widgets/base",
          "model_name": "LayoutModel",
          "model_module_version": "1.2.0",
          "state": {
            "_model_module": "@jupyter-widgets/base",
            "_model_module_version": "1.2.0",
            "_model_name": "LayoutModel",
            "_view_count": null,
            "_view_module": "@jupyter-widgets/base",
            "_view_module_version": "1.2.0",
            "_view_name": "LayoutView",
            "align_content": null,
            "align_items": null,
            "align_self": null,
            "border": null,
            "bottom": null,
            "display": null,
            "flex": null,
            "flex_flow": null,
            "grid_area": null,
            "grid_auto_columns": null,
            "grid_auto_flow": null,
            "grid_auto_rows": null,
            "grid_column": null,
            "grid_gap": null,
            "grid_row": null,
            "grid_template_areas": null,
            "grid_template_columns": null,
            "grid_template_rows": null,
            "height": null,
            "justify_content": null,
            "justify_items": null,
            "left": null,
            "margin": null,
            "max_height": null,
            "max_width": null,
            "min_height": null,
            "min_width": null,
            "object_fit": null,
            "object_position": null,
            "order": null,
            "overflow": null,
            "overflow_x": null,
            "overflow_y": null,
            "padding": null,
            "right": null,
            "top": null,
            "visibility": null,
            "width": null
          }
        },
        "3502d80e6679449f808133da6bf9571e": {
          "model_module": "@jupyter-widgets/controls",
          "model_name": "DescriptionStyleModel",
          "model_module_version": "1.5.0",
          "state": {
            "_model_module": "@jupyter-widgets/controls",
            "_model_module_version": "1.5.0",
            "_model_name": "DescriptionStyleModel",
            "_view_count": null,
            "_view_module": "@jupyter-widgets/base",
            "_view_module_version": "1.2.0",
            "_view_name": "StyleView",
            "description_width": ""
          }
        },
        "18ce770b785f47ea95fb28bdc59dfceb": {
          "model_module": "@jupyter-widgets/base",
          "model_name": "LayoutModel",
          "model_module_version": "1.2.0",
          "state": {
            "_model_module": "@jupyter-widgets/base",
            "_model_module_version": "1.2.0",
            "_model_name": "LayoutModel",
            "_view_count": null,
            "_view_module": "@jupyter-widgets/base",
            "_view_module_version": "1.2.0",
            "_view_name": "LayoutView",
            "align_content": null,
            "align_items": null,
            "align_self": null,
            "border": null,
            "bottom": null,
            "display": null,
            "flex": null,
            "flex_flow": null,
            "grid_area": null,
            "grid_auto_columns": null,
            "grid_auto_flow": null,
            "grid_auto_rows": null,
            "grid_column": null,
            "grid_gap": null,
            "grid_row": null,
            "grid_template_areas": null,
            "grid_template_columns": null,
            "grid_template_rows": null,
            "height": null,
            "justify_content": null,
            "justify_items": null,
            "left": null,
            "margin": null,
            "max_height": null,
            "max_width": null,
            "min_height": null,
            "min_width": null,
            "object_fit": null,
            "object_position": null,
            "order": null,
            "overflow": null,
            "overflow_x": null,
            "overflow_y": null,
            "padding": null,
            "right": null,
            "top": null,
            "visibility": null,
            "width": null
          }
        },
        "251a91af2427455394476a9391c393a0": {
          "model_module": "@jupyter-widgets/controls",
          "model_name": "ProgressStyleModel",
          "model_module_version": "1.5.0",
          "state": {
            "_model_module": "@jupyter-widgets/controls",
            "_model_module_version": "1.5.0",
            "_model_name": "ProgressStyleModel",
            "_view_count": null,
            "_view_module": "@jupyter-widgets/base",
            "_view_module_version": "1.2.0",
            "_view_name": "StyleView",
            "bar_color": null,
            "description_width": ""
          }
        },
        "f4757f82a82b4ae18b26f11acc33d5ee": {
          "model_module": "@jupyter-widgets/base",
          "model_name": "LayoutModel",
          "model_module_version": "1.2.0",
          "state": {
            "_model_module": "@jupyter-widgets/base",
            "_model_module_version": "1.2.0",
            "_model_name": "LayoutModel",
            "_view_count": null,
            "_view_module": "@jupyter-widgets/base",
            "_view_module_version": "1.2.0",
            "_view_name": "LayoutView",
            "align_content": null,
            "align_items": null,
            "align_self": null,
            "border": null,
            "bottom": null,
            "display": null,
            "flex": null,
            "flex_flow": null,
            "grid_area": null,
            "grid_auto_columns": null,
            "grid_auto_flow": null,
            "grid_auto_rows": null,
            "grid_column": null,
            "grid_gap": null,
            "grid_row": null,
            "grid_template_areas": null,
            "grid_template_columns": null,
            "grid_template_rows": null,
            "height": null,
            "justify_content": null,
            "justify_items": null,
            "left": null,
            "margin": null,
            "max_height": null,
            "max_width": null,
            "min_height": null,
            "min_width": null,
            "object_fit": null,
            "object_position": null,
            "order": null,
            "overflow": null,
            "overflow_x": null,
            "overflow_y": null,
            "padding": null,
            "right": null,
            "top": null,
            "visibility": null,
            "width": null
          }
        },
        "a935c1718d3f4d4a8666dbd3517a24a6": {
          "model_module": "@jupyter-widgets/controls",
          "model_name": "DescriptionStyleModel",
          "model_module_version": "1.5.0",
          "state": {
            "_model_module": "@jupyter-widgets/controls",
            "_model_module_version": "1.5.0",
            "_model_name": "DescriptionStyleModel",
            "_view_count": null,
            "_view_module": "@jupyter-widgets/base",
            "_view_module_version": "1.2.0",
            "_view_name": "StyleView",
            "description_width": ""
          }
        },
        "e4d97a6052444de19727a371e5951513": {
          "model_module": "@jupyter-widgets/controls",
          "model_name": "HBoxModel",
          "model_module_version": "1.5.0",
          "state": {
            "_dom_classes": [],
            "_model_module": "@jupyter-widgets/controls",
            "_model_module_version": "1.5.0",
            "_model_name": "HBoxModel",
            "_view_count": null,
            "_view_module": "@jupyter-widgets/controls",
            "_view_module_version": "1.5.0",
            "_view_name": "HBoxView",
            "box_style": "",
            "children": [
              "IPY_MODEL_29449bdf220f4beea04dea2166e63af3",
              "IPY_MODEL_010102b44a7743f9ba6c6ec6586b6fab",
              "IPY_MODEL_1416cfb812c3463e993cf6827b82d53e"
            ],
            "layout": "IPY_MODEL_cbe6337a2b3f4271bdba3328771fe09d"
          }
        },
        "29449bdf220f4beea04dea2166e63af3": {
          "model_module": "@jupyter-widgets/controls",
          "model_name": "HTMLModel",
          "model_module_version": "1.5.0",
          "state": {
            "_dom_classes": [],
            "_model_module": "@jupyter-widgets/controls",
            "_model_module_version": "1.5.0",
            "_model_name": "HTMLModel",
            "_view_count": null,
            "_view_module": "@jupyter-widgets/controls",
            "_view_module_version": "1.5.0",
            "_view_name": "HTMLView",
            "description": "",
            "description_tooltip": null,
            "layout": "IPY_MODEL_2e6c8540f2ad40e5ba4d7c25b115ceb4",
            "placeholder": "​",
            "style": "IPY_MODEL_b1178088d49f46bcbcb69a91136e2769",
            "value": "(…)s_and_Responses%2Fcases_results_1_tr.zip: 100%"
          }
        },
        "010102b44a7743f9ba6c6ec6586b6fab": {
          "model_module": "@jupyter-widgets/controls",
          "model_name": "FloatProgressModel",
          "model_module_version": "1.5.0",
          "state": {
            "_dom_classes": [],
            "_model_module": "@jupyter-widgets/controls",
            "_model_module_version": "1.5.0",
            "_model_name": "FloatProgressModel",
            "_view_count": null,
            "_view_module": "@jupyter-widgets/controls",
            "_view_module_version": "1.5.0",
            "_view_name": "ProgressView",
            "bar_style": "success",
            "description": "",
            "description_tooltip": null,
            "layout": "IPY_MODEL_2dff86ad23e340c8aba5bf519b4826b7",
            "max": 190867,
            "min": 0,
            "orientation": "horizontal",
            "style": "IPY_MODEL_70bd6118bba849b18f6ec533df90dd4a",
            "value": 190867
          }
        },
        "1416cfb812c3463e993cf6827b82d53e": {
          "model_module": "@jupyter-widgets/controls",
          "model_name": "HTMLModel",
          "model_module_version": "1.5.0",
          "state": {
            "_dom_classes": [],
            "_model_module": "@jupyter-widgets/controls",
            "_model_module_version": "1.5.0",
            "_model_name": "HTMLModel",
            "_view_count": null,
            "_view_module": "@jupyter-widgets/controls",
            "_view_module_version": "1.5.0",
            "_view_name": "HTMLView",
            "description": "",
            "description_tooltip": null,
            "layout": "IPY_MODEL_316bb2bcf0b0448991451bd95484c184",
            "placeholder": "​",
            "style": "IPY_MODEL_f2043642a6684bc4b46aeb3999c296dc",
            "value": " 191k/191k [00:00&lt;00:00, 4.78MB/s]"
          }
        },
        "cbe6337a2b3f4271bdba3328771fe09d": {
          "model_module": "@jupyter-widgets/base",
          "model_name": "LayoutModel",
          "model_module_version": "1.2.0",
          "state": {
            "_model_module": "@jupyter-widgets/base",
            "_model_module_version": "1.2.0",
            "_model_name": "LayoutModel",
            "_view_count": null,
            "_view_module": "@jupyter-widgets/base",
            "_view_module_version": "1.2.0",
            "_view_name": "LayoutView",
            "align_content": null,
            "align_items": null,
            "align_self": null,
            "border": null,
            "bottom": null,
            "display": null,
            "flex": null,
            "flex_flow": null,
            "grid_area": null,
            "grid_auto_columns": null,
            "grid_auto_flow": null,
            "grid_auto_rows": null,
            "grid_column": null,
            "grid_gap": null,
            "grid_row": null,
            "grid_template_areas": null,
            "grid_template_columns": null,
            "grid_template_rows": null,
            "height": null,
            "justify_content": null,
            "justify_items": null,
            "left": null,
            "margin": null,
            "max_height": null,
            "max_width": null,
            "min_height": null,
            "min_width": null,
            "object_fit": null,
            "object_position": null,
            "order": null,
            "overflow": null,
            "overflow_x": null,
            "overflow_y": null,
            "padding": null,
            "right": null,
            "top": null,
            "visibility": null,
            "width": null
          }
        },
        "2e6c8540f2ad40e5ba4d7c25b115ceb4": {
          "model_module": "@jupyter-widgets/base",
          "model_name": "LayoutModel",
          "model_module_version": "1.2.0",
          "state": {
            "_model_module": "@jupyter-widgets/base",
            "_model_module_version": "1.2.0",
            "_model_name": "LayoutModel",
            "_view_count": null,
            "_view_module": "@jupyter-widgets/base",
            "_view_module_version": "1.2.0",
            "_view_name": "LayoutView",
            "align_content": null,
            "align_items": null,
            "align_self": null,
            "border": null,
            "bottom": null,
            "display": null,
            "flex": null,
            "flex_flow": null,
            "grid_area": null,
            "grid_auto_columns": null,
            "grid_auto_flow": null,
            "grid_auto_rows": null,
            "grid_column": null,
            "grid_gap": null,
            "grid_row": null,
            "grid_template_areas": null,
            "grid_template_columns": null,
            "grid_template_rows": null,
            "height": null,
            "justify_content": null,
            "justify_items": null,
            "left": null,
            "margin": null,
            "max_height": null,
            "max_width": null,
            "min_height": null,
            "min_width": null,
            "object_fit": null,
            "object_position": null,
            "order": null,
            "overflow": null,
            "overflow_x": null,
            "overflow_y": null,
            "padding": null,
            "right": null,
            "top": null,
            "visibility": null,
            "width": null
          }
        },
        "b1178088d49f46bcbcb69a91136e2769": {
          "model_module": "@jupyter-widgets/controls",
          "model_name": "DescriptionStyleModel",
          "model_module_version": "1.5.0",
          "state": {
            "_model_module": "@jupyter-widgets/controls",
            "_model_module_version": "1.5.0",
            "_model_name": "DescriptionStyleModel",
            "_view_count": null,
            "_view_module": "@jupyter-widgets/base",
            "_view_module_version": "1.2.0",
            "_view_name": "StyleView",
            "description_width": ""
          }
        },
        "2dff86ad23e340c8aba5bf519b4826b7": {
          "model_module": "@jupyter-widgets/base",
          "model_name": "LayoutModel",
          "model_module_version": "1.2.0",
          "state": {
            "_model_module": "@jupyter-widgets/base",
            "_model_module_version": "1.2.0",
            "_model_name": "LayoutModel",
            "_view_count": null,
            "_view_module": "@jupyter-widgets/base",
            "_view_module_version": "1.2.0",
            "_view_name": "LayoutView",
            "align_content": null,
            "align_items": null,
            "align_self": null,
            "border": null,
            "bottom": null,
            "display": null,
            "flex": null,
            "flex_flow": null,
            "grid_area": null,
            "grid_auto_columns": null,
            "grid_auto_flow": null,
            "grid_auto_rows": null,
            "grid_column": null,
            "grid_gap": null,
            "grid_row": null,
            "grid_template_areas": null,
            "grid_template_columns": null,
            "grid_template_rows": null,
            "height": null,
            "justify_content": null,
            "justify_items": null,
            "left": null,
            "margin": null,
            "max_height": null,
            "max_width": null,
            "min_height": null,
            "min_width": null,
            "object_fit": null,
            "object_position": null,
            "order": null,
            "overflow": null,
            "overflow_x": null,
            "overflow_y": null,
            "padding": null,
            "right": null,
            "top": null,
            "visibility": null,
            "width": null
          }
        },
        "70bd6118bba849b18f6ec533df90dd4a": {
          "model_module": "@jupyter-widgets/controls",
          "model_name": "ProgressStyleModel",
          "model_module_version": "1.5.0",
          "state": {
            "_model_module": "@jupyter-widgets/controls",
            "_model_module_version": "1.5.0",
            "_model_name": "ProgressStyleModel",
            "_view_count": null,
            "_view_module": "@jupyter-widgets/base",
            "_view_module_version": "1.2.0",
            "_view_name": "StyleView",
            "bar_color": null,
            "description_width": ""
          }
        },
        "316bb2bcf0b0448991451bd95484c184": {
          "model_module": "@jupyter-widgets/base",
          "model_name": "LayoutModel",
          "model_module_version": "1.2.0",
          "state": {
            "_model_module": "@jupyter-widgets/base",
            "_model_module_version": "1.2.0",
            "_model_name": "LayoutModel",
            "_view_count": null,
            "_view_module": "@jupyter-widgets/base",
            "_view_module_version": "1.2.0",
            "_view_name": "LayoutView",
            "align_content": null,
            "align_items": null,
            "align_self": null,
            "border": null,
            "bottom": null,
            "display": null,
            "flex": null,
            "flex_flow": null,
            "grid_area": null,
            "grid_auto_columns": null,
            "grid_auto_flow": null,
            "grid_auto_rows": null,
            "grid_column": null,
            "grid_gap": null,
            "grid_row": null,
            "grid_template_areas": null,
            "grid_template_columns": null,
            "grid_template_rows": null,
            "height": null,
            "justify_content": null,
            "justify_items": null,
            "left": null,
            "margin": null,
            "max_height": null,
            "max_width": null,
            "min_height": null,
            "min_width": null,
            "object_fit": null,
            "object_position": null,
            "order": null,
            "overflow": null,
            "overflow_x": null,
            "overflow_y": null,
            "padding": null,
            "right": null,
            "top": null,
            "visibility": null,
            "width": null
          }
        },
        "f2043642a6684bc4b46aeb3999c296dc": {
          "model_module": "@jupyter-widgets/controls",
          "model_name": "DescriptionStyleModel",
          "model_module_version": "1.5.0",
          "state": {
            "_model_module": "@jupyter-widgets/controls",
            "_model_module_version": "1.5.0",
            "_model_name": "DescriptionStyleModel",
            "_view_count": null,
            "_view_module": "@jupyter-widgets/base",
            "_view_module_version": "1.2.0",
            "_view_name": "StyleView",
            "description_width": ""
          }
        },
        "91b59efda1e4404e8f708751c9e67a06": {
          "model_module": "@jupyter-widgets/controls",
          "model_name": "HBoxModel",
          "model_module_version": "1.5.0",
          "state": {
            "_dom_classes": [],
            "_model_module": "@jupyter-widgets/controls",
            "_model_module_version": "1.5.0",
            "_model_name": "HBoxModel",
            "_view_count": null,
            "_view_module": "@jupyter-widgets/controls",
            "_view_module_version": "1.5.0",
            "_view_name": "HBoxView",
            "box_style": "",
            "children": [
              "IPY_MODEL_d3fa4c77b79e423a9d12a57d5e8d5c76",
              "IPY_MODEL_5cac21ee97704c5d811e02e979dbb9fc",
              "IPY_MODEL_bcc6b91d164445388113c112c6612087"
            ],
            "layout": "IPY_MODEL_a60d76307ebd4272ac0513341b8eac52"
          }
        },
        "d3fa4c77b79e423a9d12a57d5e8d5c76": {
          "model_module": "@jupyter-widgets/controls",
          "model_name": "HTMLModel",
          "model_module_version": "1.5.0",
          "state": {
            "_dom_classes": [],
            "_model_module": "@jupyter-widgets/controls",
            "_model_module_version": "1.5.0",
            "_model_name": "HTMLModel",
            "_view_count": null,
            "_view_module": "@jupyter-widgets/controls",
            "_view_module_version": "1.5.0",
            "_view_name": "HTMLView",
            "description": "",
            "description_tooltip": null,
            "layout": "IPY_MODEL_8db7a97c16b243cb8fda0dd4f96e67cf",
            "placeholder": "​",
            "style": "IPY_MODEL_3b42620268744e4ebf48b9823bb7e56c",
            "value": "(…)ases_and_Responses%2Fcases_results_2.zip: 100%"
          }
        },
        "5cac21ee97704c5d811e02e979dbb9fc": {
          "model_module": "@jupyter-widgets/controls",
          "model_name": "FloatProgressModel",
          "model_module_version": "1.5.0",
          "state": {
            "_dom_classes": [],
            "_model_module": "@jupyter-widgets/controls",
            "_model_module_version": "1.5.0",
            "_model_name": "FloatProgressModel",
            "_view_count": null,
            "_view_module": "@jupyter-widgets/controls",
            "_view_module_version": "1.5.0",
            "_view_name": "ProgressView",
            "bar_style": "success",
            "description": "",
            "description_tooltip": null,
            "layout": "IPY_MODEL_862a99a722bb4612bb2c91c9c46efa25",
            "max": 158548,
            "min": 0,
            "orientation": "horizontal",
            "style": "IPY_MODEL_bada73c732c840f08f875f42d85dfe1a",
            "value": 158548
          }
        },
        "bcc6b91d164445388113c112c6612087": {
          "model_module": "@jupyter-widgets/controls",
          "model_name": "HTMLModel",
          "model_module_version": "1.5.0",
          "state": {
            "_dom_classes": [],
            "_model_module": "@jupyter-widgets/controls",
            "_model_module_version": "1.5.0",
            "_model_name": "HTMLModel",
            "_view_count": null,
            "_view_module": "@jupyter-widgets/controls",
            "_view_module_version": "1.5.0",
            "_view_name": "HTMLView",
            "description": "",
            "description_tooltip": null,
            "layout": "IPY_MODEL_e84549f842dc4306aee6ce80b5cf7561",
            "placeholder": "​",
            "style": "IPY_MODEL_663e0ebbb4d74272a4576bcecfe731fb",
            "value": " 159k/159k [00:00&lt;00:00, 5.26MB/s]"
          }
        },
        "a60d76307ebd4272ac0513341b8eac52": {
          "model_module": "@jupyter-widgets/base",
          "model_name": "LayoutModel",
          "model_module_version": "1.2.0",
          "state": {
            "_model_module": "@jupyter-widgets/base",
            "_model_module_version": "1.2.0",
            "_model_name": "LayoutModel",
            "_view_count": null,
            "_view_module": "@jupyter-widgets/base",
            "_view_module_version": "1.2.0",
            "_view_name": "LayoutView",
            "align_content": null,
            "align_items": null,
            "align_self": null,
            "border": null,
            "bottom": null,
            "display": null,
            "flex": null,
            "flex_flow": null,
            "grid_area": null,
            "grid_auto_columns": null,
            "grid_auto_flow": null,
            "grid_auto_rows": null,
            "grid_column": null,
            "grid_gap": null,
            "grid_row": null,
            "grid_template_areas": null,
            "grid_template_columns": null,
            "grid_template_rows": null,
            "height": null,
            "justify_content": null,
            "justify_items": null,
            "left": null,
            "margin": null,
            "max_height": null,
            "max_width": null,
            "min_height": null,
            "min_width": null,
            "object_fit": null,
            "object_position": null,
            "order": null,
            "overflow": null,
            "overflow_x": null,
            "overflow_y": null,
            "padding": null,
            "right": null,
            "top": null,
            "visibility": null,
            "width": null
          }
        },
        "8db7a97c16b243cb8fda0dd4f96e67cf": {
          "model_module": "@jupyter-widgets/base",
          "model_name": "LayoutModel",
          "model_module_version": "1.2.0",
          "state": {
            "_model_module": "@jupyter-widgets/base",
            "_model_module_version": "1.2.0",
            "_model_name": "LayoutModel",
            "_view_count": null,
            "_view_module": "@jupyter-widgets/base",
            "_view_module_version": "1.2.0",
            "_view_name": "LayoutView",
            "align_content": null,
            "align_items": null,
            "align_self": null,
            "border": null,
            "bottom": null,
            "display": null,
            "flex": null,
            "flex_flow": null,
            "grid_area": null,
            "grid_auto_columns": null,
            "grid_auto_flow": null,
            "grid_auto_rows": null,
            "grid_column": null,
            "grid_gap": null,
            "grid_row": null,
            "grid_template_areas": null,
            "grid_template_columns": null,
            "grid_template_rows": null,
            "height": null,
            "justify_content": null,
            "justify_items": null,
            "left": null,
            "margin": null,
            "max_height": null,
            "max_width": null,
            "min_height": null,
            "min_width": null,
            "object_fit": null,
            "object_position": null,
            "order": null,
            "overflow": null,
            "overflow_x": null,
            "overflow_y": null,
            "padding": null,
            "right": null,
            "top": null,
            "visibility": null,
            "width": null
          }
        },
        "3b42620268744e4ebf48b9823bb7e56c": {
          "model_module": "@jupyter-widgets/controls",
          "model_name": "DescriptionStyleModel",
          "model_module_version": "1.5.0",
          "state": {
            "_model_module": "@jupyter-widgets/controls",
            "_model_module_version": "1.5.0",
            "_model_name": "DescriptionStyleModel",
            "_view_count": null,
            "_view_module": "@jupyter-widgets/base",
            "_view_module_version": "1.2.0",
            "_view_name": "StyleView",
            "description_width": ""
          }
        },
        "862a99a722bb4612bb2c91c9c46efa25": {
          "model_module": "@jupyter-widgets/base",
          "model_name": "LayoutModel",
          "model_module_version": "1.2.0",
          "state": {
            "_model_module": "@jupyter-widgets/base",
            "_model_module_version": "1.2.0",
            "_model_name": "LayoutModel",
            "_view_count": null,
            "_view_module": "@jupyter-widgets/base",
            "_view_module_version": "1.2.0",
            "_view_name": "LayoutView",
            "align_content": null,
            "align_items": null,
            "align_self": null,
            "border": null,
            "bottom": null,
            "display": null,
            "flex": null,
            "flex_flow": null,
            "grid_area": null,
            "grid_auto_columns": null,
            "grid_auto_flow": null,
            "grid_auto_rows": null,
            "grid_column": null,
            "grid_gap": null,
            "grid_row": null,
            "grid_template_areas": null,
            "grid_template_columns": null,
            "grid_template_rows": null,
            "height": null,
            "justify_content": null,
            "justify_items": null,
            "left": null,
            "margin": null,
            "max_height": null,
            "max_width": null,
            "min_height": null,
            "min_width": null,
            "object_fit": null,
            "object_position": null,
            "order": null,
            "overflow": null,
            "overflow_x": null,
            "overflow_y": null,
            "padding": null,
            "right": null,
            "top": null,
            "visibility": null,
            "width": null
          }
        },
        "bada73c732c840f08f875f42d85dfe1a": {
          "model_module": "@jupyter-widgets/controls",
          "model_name": "ProgressStyleModel",
          "model_module_version": "1.5.0",
          "state": {
            "_model_module": "@jupyter-widgets/controls",
            "_model_module_version": "1.5.0",
            "_model_name": "ProgressStyleModel",
            "_view_count": null,
            "_view_module": "@jupyter-widgets/base",
            "_view_module_version": "1.2.0",
            "_view_name": "StyleView",
            "bar_color": null,
            "description_width": ""
          }
        },
        "e84549f842dc4306aee6ce80b5cf7561": {
          "model_module": "@jupyter-widgets/base",
          "model_name": "LayoutModel",
          "model_module_version": "1.2.0",
          "state": {
            "_model_module": "@jupyter-widgets/base",
            "_model_module_version": "1.2.0",
            "_model_name": "LayoutModel",
            "_view_count": null,
            "_view_module": "@jupyter-widgets/base",
            "_view_module_version": "1.2.0",
            "_view_name": "LayoutView",
            "align_content": null,
            "align_items": null,
            "align_self": null,
            "border": null,
            "bottom": null,
            "display": null,
            "flex": null,
            "flex_flow": null,
            "grid_area": null,
            "grid_auto_columns": null,
            "grid_auto_flow": null,
            "grid_auto_rows": null,
            "grid_column": null,
            "grid_gap": null,
            "grid_row": null,
            "grid_template_areas": null,
            "grid_template_columns": null,
            "grid_template_rows": null,
            "height": null,
            "justify_content": null,
            "justify_items": null,
            "left": null,
            "margin": null,
            "max_height": null,
            "max_width": null,
            "min_height": null,
            "min_width": null,
            "object_fit": null,
            "object_position": null,
            "order": null,
            "overflow": null,
            "overflow_x": null,
            "overflow_y": null,
            "padding": null,
            "right": null,
            "top": null,
            "visibility": null,
            "width": null
          }
        },
        "663e0ebbb4d74272a4576bcecfe731fb": {
          "model_module": "@jupyter-widgets/controls",
          "model_name": "DescriptionStyleModel",
          "model_module_version": "1.5.0",
          "state": {
            "_model_module": "@jupyter-widgets/controls",
            "_model_module_version": "1.5.0",
            "_model_name": "DescriptionStyleModel",
            "_view_count": null,
            "_view_module": "@jupyter-widgets/base",
            "_view_module_version": "1.2.0",
            "_view_name": "StyleView",
            "description_width": ""
          }
        },
        "773f6e69386a41f6958402b733d5b4ae": {
          "model_module": "@jupyter-widgets/controls",
          "model_name": "HBoxModel",
          "model_module_version": "1.5.0",
          "state": {
            "_dom_classes": [],
            "_model_module": "@jupyter-widgets/controls",
            "_model_module_version": "1.5.0",
            "_model_name": "HBoxModel",
            "_view_count": null,
            "_view_module": "@jupyter-widgets/controls",
            "_view_module_version": "1.5.0",
            "_view_name": "HBoxView",
            "box_style": "",
            "children": [
              "IPY_MODEL_294f8f7041794b6ea65bcdcedd6ae6ea",
              "IPY_MODEL_87b16ee31d074aa98ad25657f7c5ec36",
              "IPY_MODEL_d89e80642a64475ab025535935da1ca8"
            ],
            "layout": "IPY_MODEL_cc8d341a5ca848f1af6b917b37694964"
          }
        },
        "294f8f7041794b6ea65bcdcedd6ae6ea": {
          "model_module": "@jupyter-widgets/controls",
          "model_name": "HTMLModel",
          "model_module_version": "1.5.0",
          "state": {
            "_dom_classes": [],
            "_model_module": "@jupyter-widgets/controls",
            "_model_module_version": "1.5.0",
            "_model_name": "HTMLModel",
            "_view_count": null,
            "_view_module": "@jupyter-widgets/controls",
            "_view_module_version": "1.5.0",
            "_view_name": "HTMLView",
            "description": "",
            "description_tooltip": null,
            "layout": "IPY_MODEL_cbed072086594749880ce1fc291aaf88",
            "placeholder": "​",
            "style": "IPY_MODEL_80662bf0869449e9b10ec3a8daf2095b",
            "value": "(…)s_and_Responses%2Fcases_results_2_tr.zip: 100%"
          }
        },
        "87b16ee31d074aa98ad25657f7c5ec36": {
          "model_module": "@jupyter-widgets/controls",
          "model_name": "FloatProgressModel",
          "model_module_version": "1.5.0",
          "state": {
            "_dom_classes": [],
            "_model_module": "@jupyter-widgets/controls",
            "_model_module_version": "1.5.0",
            "_model_name": "FloatProgressModel",
            "_view_count": null,
            "_view_module": "@jupyter-widgets/controls",
            "_view_module_version": "1.5.0",
            "_view_name": "ProgressView",
            "bar_style": "success",
            "description": "",
            "description_tooltip": null,
            "layout": "IPY_MODEL_5b6567f19a39409e97b951b3db68eb77",
            "max": 181549,
            "min": 0,
            "orientation": "horizontal",
            "style": "IPY_MODEL_0542d15aa85441918aa47ed8398d6344",
            "value": 181549
          }
        },
        "d89e80642a64475ab025535935da1ca8": {
          "model_module": "@jupyter-widgets/controls",
          "model_name": "HTMLModel",
          "model_module_version": "1.5.0",
          "state": {
            "_dom_classes": [],
            "_model_module": "@jupyter-widgets/controls",
            "_model_module_version": "1.5.0",
            "_model_name": "HTMLModel",
            "_view_count": null,
            "_view_module": "@jupyter-widgets/controls",
            "_view_module_version": "1.5.0",
            "_view_name": "HTMLView",
            "description": "",
            "description_tooltip": null,
            "layout": "IPY_MODEL_54cb685ce3a94526b50aaffc16d3cd59",
            "placeholder": "​",
            "style": "IPY_MODEL_2b12343b619c4567b25ff84d03bf4ef7",
            "value": " 182k/182k [00:00&lt;00:00, 3.24MB/s]"
          }
        },
        "cc8d341a5ca848f1af6b917b37694964": {
          "model_module": "@jupyter-widgets/base",
          "model_name": "LayoutModel",
          "model_module_version": "1.2.0",
          "state": {
            "_model_module": "@jupyter-widgets/base",
            "_model_module_version": "1.2.0",
            "_model_name": "LayoutModel",
            "_view_count": null,
            "_view_module": "@jupyter-widgets/base",
            "_view_module_version": "1.2.0",
            "_view_name": "LayoutView",
            "align_content": null,
            "align_items": null,
            "align_self": null,
            "border": null,
            "bottom": null,
            "display": null,
            "flex": null,
            "flex_flow": null,
            "grid_area": null,
            "grid_auto_columns": null,
            "grid_auto_flow": null,
            "grid_auto_rows": null,
            "grid_column": null,
            "grid_gap": null,
            "grid_row": null,
            "grid_template_areas": null,
            "grid_template_columns": null,
            "grid_template_rows": null,
            "height": null,
            "justify_content": null,
            "justify_items": null,
            "left": null,
            "margin": null,
            "max_height": null,
            "max_width": null,
            "min_height": null,
            "min_width": null,
            "object_fit": null,
            "object_position": null,
            "order": null,
            "overflow": null,
            "overflow_x": null,
            "overflow_y": null,
            "padding": null,
            "right": null,
            "top": null,
            "visibility": null,
            "width": null
          }
        },
        "cbed072086594749880ce1fc291aaf88": {
          "model_module": "@jupyter-widgets/base",
          "model_name": "LayoutModel",
          "model_module_version": "1.2.0",
          "state": {
            "_model_module": "@jupyter-widgets/base",
            "_model_module_version": "1.2.0",
            "_model_name": "LayoutModel",
            "_view_count": null,
            "_view_module": "@jupyter-widgets/base",
            "_view_module_version": "1.2.0",
            "_view_name": "LayoutView",
            "align_content": null,
            "align_items": null,
            "align_self": null,
            "border": null,
            "bottom": null,
            "display": null,
            "flex": null,
            "flex_flow": null,
            "grid_area": null,
            "grid_auto_columns": null,
            "grid_auto_flow": null,
            "grid_auto_rows": null,
            "grid_column": null,
            "grid_gap": null,
            "grid_row": null,
            "grid_template_areas": null,
            "grid_template_columns": null,
            "grid_template_rows": null,
            "height": null,
            "justify_content": null,
            "justify_items": null,
            "left": null,
            "margin": null,
            "max_height": null,
            "max_width": null,
            "min_height": null,
            "min_width": null,
            "object_fit": null,
            "object_position": null,
            "order": null,
            "overflow": null,
            "overflow_x": null,
            "overflow_y": null,
            "padding": null,
            "right": null,
            "top": null,
            "visibility": null,
            "width": null
          }
        },
        "80662bf0869449e9b10ec3a8daf2095b": {
          "model_module": "@jupyter-widgets/controls",
          "model_name": "DescriptionStyleModel",
          "model_module_version": "1.5.0",
          "state": {
            "_model_module": "@jupyter-widgets/controls",
            "_model_module_version": "1.5.0",
            "_model_name": "DescriptionStyleModel",
            "_view_count": null,
            "_view_module": "@jupyter-widgets/base",
            "_view_module_version": "1.2.0",
            "_view_name": "StyleView",
            "description_width": ""
          }
        },
        "5b6567f19a39409e97b951b3db68eb77": {
          "model_module": "@jupyter-widgets/base",
          "model_name": "LayoutModel",
          "model_module_version": "1.2.0",
          "state": {
            "_model_module": "@jupyter-widgets/base",
            "_model_module_version": "1.2.0",
            "_model_name": "LayoutModel",
            "_view_count": null,
            "_view_module": "@jupyter-widgets/base",
            "_view_module_version": "1.2.0",
            "_view_name": "LayoutView",
            "align_content": null,
            "align_items": null,
            "align_self": null,
            "border": null,
            "bottom": null,
            "display": null,
            "flex": null,
            "flex_flow": null,
            "grid_area": null,
            "grid_auto_columns": null,
            "grid_auto_flow": null,
            "grid_auto_rows": null,
            "grid_column": null,
            "grid_gap": null,
            "grid_row": null,
            "grid_template_areas": null,
            "grid_template_columns": null,
            "grid_template_rows": null,
            "height": null,
            "justify_content": null,
            "justify_items": null,
            "left": null,
            "margin": null,
            "max_height": null,
            "max_width": null,
            "min_height": null,
            "min_width": null,
            "object_fit": null,
            "object_position": null,
            "order": null,
            "overflow": null,
            "overflow_x": null,
            "overflow_y": null,
            "padding": null,
            "right": null,
            "top": null,
            "visibility": null,
            "width": null
          }
        },
        "0542d15aa85441918aa47ed8398d6344": {
          "model_module": "@jupyter-widgets/controls",
          "model_name": "ProgressStyleModel",
          "model_module_version": "1.5.0",
          "state": {
            "_model_module": "@jupyter-widgets/controls",
            "_model_module_version": "1.5.0",
            "_model_name": "ProgressStyleModel",
            "_view_count": null,
            "_view_module": "@jupyter-widgets/base",
            "_view_module_version": "1.2.0",
            "_view_name": "StyleView",
            "bar_color": null,
            "description_width": ""
          }
        },
        "54cb685ce3a94526b50aaffc16d3cd59": {
          "model_module": "@jupyter-widgets/base",
          "model_name": "LayoutModel",
          "model_module_version": "1.2.0",
          "state": {
            "_model_module": "@jupyter-widgets/base",
            "_model_module_version": "1.2.0",
            "_model_name": "LayoutModel",
            "_view_count": null,
            "_view_module": "@jupyter-widgets/base",
            "_view_module_version": "1.2.0",
            "_view_name": "LayoutView",
            "align_content": null,
            "align_items": null,
            "align_self": null,
            "border": null,
            "bottom": null,
            "display": null,
            "flex": null,
            "flex_flow": null,
            "grid_area": null,
            "grid_auto_columns": null,
            "grid_auto_flow": null,
            "grid_auto_rows": null,
            "grid_column": null,
            "grid_gap": null,
            "grid_row": null,
            "grid_template_areas": null,
            "grid_template_columns": null,
            "grid_template_rows": null,
            "height": null,
            "justify_content": null,
            "justify_items": null,
            "left": null,
            "margin": null,
            "max_height": null,
            "max_width": null,
            "min_height": null,
            "min_width": null,
            "object_fit": null,
            "object_position": null,
            "order": null,
            "overflow": null,
            "overflow_x": null,
            "overflow_y": null,
            "padding": null,
            "right": null,
            "top": null,
            "visibility": null,
            "width": null
          }
        },
        "2b12343b619c4567b25ff84d03bf4ef7": {
          "model_module": "@jupyter-widgets/controls",
          "model_name": "DescriptionStyleModel",
          "model_module_version": "1.5.0",
          "state": {
            "_model_module": "@jupyter-widgets/controls",
            "_model_module_version": "1.5.0",
            "_model_name": "DescriptionStyleModel",
            "_view_count": null,
            "_view_module": "@jupyter-widgets/base",
            "_view_module_version": "1.2.0",
            "_view_name": "StyleView",
            "description_width": ""
          }
        },
        "e5a416bf9e474fe7a7ca98d2a0617ce3": {
          "model_module": "@jupyter-widgets/controls",
          "model_name": "HBoxModel",
          "model_module_version": "1.5.0",
          "state": {
            "_dom_classes": [],
            "_model_module": "@jupyter-widgets/controls",
            "_model_module_version": "1.5.0",
            "_model_name": "HBoxModel",
            "_view_count": null,
            "_view_module": "@jupyter-widgets/controls",
            "_view_module_version": "1.5.0",
            "_view_name": "HBoxView",
            "box_style": "",
            "children": [
              "IPY_MODEL_8c3267935fd8489ab18e5abce166c3de",
              "IPY_MODEL_7c14af7a053d44e4a76361f5d09dad86",
              "IPY_MODEL_4d3b880c0ac84229b48a68ca7036c211"
            ],
            "layout": "IPY_MODEL_f6ebcb24d1824e1d96c4f966fa60887a"
          }
        },
        "8c3267935fd8489ab18e5abce166c3de": {
          "model_module": "@jupyter-widgets/controls",
          "model_name": "HTMLModel",
          "model_module_version": "1.5.0",
          "state": {
            "_dom_classes": [],
            "_model_module": "@jupyter-widgets/controls",
            "_model_module_version": "1.5.0",
            "_model_name": "HTMLModel",
            "_view_count": null,
            "_view_module": "@jupyter-widgets/controls",
            "_view_module_version": "1.5.0",
            "_view_name": "HTMLView",
            "description": "",
            "description_tooltip": null,
            "layout": "IPY_MODEL_413743eece7747b58069a4fc94248736",
            "placeholder": "​",
            "style": "IPY_MODEL_a54b6950dafa43e988ed42c1bbddaed0",
            "value": "Generating train split: 100%"
          }
        },
        "7c14af7a053d44e4a76361f5d09dad86": {
          "model_module": "@jupyter-widgets/controls",
          "model_name": "FloatProgressModel",
          "model_module_version": "1.5.0",
          "state": {
            "_dom_classes": [],
            "_model_module": "@jupyter-widgets/controls",
            "_model_module_version": "1.5.0",
            "_model_name": "FloatProgressModel",
            "_view_count": null,
            "_view_module": "@jupyter-widgets/controls",
            "_view_module_version": "1.5.0",
            "_view_name": "ProgressView",
            "bar_style": "success",
            "description": "",
            "description_tooltip": null,
            "layout": "IPY_MODEL_ee9519f5535b419b84f3a406eec529db",
            "max": 11634,
            "min": 0,
            "orientation": "horizontal",
            "style": "IPY_MODEL_92ca748791934739abe6ac614963d831",
            "value": 11634
          }
        },
        "4d3b880c0ac84229b48a68ca7036c211": {
          "model_module": "@jupyter-widgets/controls",
          "model_name": "HTMLModel",
          "model_module_version": "1.5.0",
          "state": {
            "_dom_classes": [],
            "_model_module": "@jupyter-widgets/controls",
            "_model_module_version": "1.5.0",
            "_model_name": "HTMLModel",
            "_view_count": null,
            "_view_module": "@jupyter-widgets/controls",
            "_view_module_version": "1.5.0",
            "_view_name": "HTMLView",
            "description": "",
            "description_tooltip": null,
            "layout": "IPY_MODEL_4bd4bae738a1457393b7dcb122eb748d",
            "placeholder": "​",
            "style": "IPY_MODEL_1aa7d9626b254f9cb28394a116e034b7",
            "value": " 11634/11634 [00:01&lt;00:00, 10192.01 examples/s]"
          }
        },
        "f6ebcb24d1824e1d96c4f966fa60887a": {
          "model_module": "@jupyter-widgets/base",
          "model_name": "LayoutModel",
          "model_module_version": "1.2.0",
          "state": {
            "_model_module": "@jupyter-widgets/base",
            "_model_module_version": "1.2.0",
            "_model_name": "LayoutModel",
            "_view_count": null,
            "_view_module": "@jupyter-widgets/base",
            "_view_module_version": "1.2.0",
            "_view_name": "LayoutView",
            "align_content": null,
            "align_items": null,
            "align_self": null,
            "border": null,
            "bottom": null,
            "display": null,
            "flex": null,
            "flex_flow": null,
            "grid_area": null,
            "grid_auto_columns": null,
            "grid_auto_flow": null,
            "grid_auto_rows": null,
            "grid_column": null,
            "grid_gap": null,
            "grid_row": null,
            "grid_template_areas": null,
            "grid_template_columns": null,
            "grid_template_rows": null,
            "height": null,
            "justify_content": null,
            "justify_items": null,
            "left": null,
            "margin": null,
            "max_height": null,
            "max_width": null,
            "min_height": null,
            "min_width": null,
            "object_fit": null,
            "object_position": null,
            "order": null,
            "overflow": null,
            "overflow_x": null,
            "overflow_y": null,
            "padding": null,
            "right": null,
            "top": null,
            "visibility": null,
            "width": null
          }
        },
        "413743eece7747b58069a4fc94248736": {
          "model_module": "@jupyter-widgets/base",
          "model_name": "LayoutModel",
          "model_module_version": "1.2.0",
          "state": {
            "_model_module": "@jupyter-widgets/base",
            "_model_module_version": "1.2.0",
            "_model_name": "LayoutModel",
            "_view_count": null,
            "_view_module": "@jupyter-widgets/base",
            "_view_module_version": "1.2.0",
            "_view_name": "LayoutView",
            "align_content": null,
            "align_items": null,
            "align_self": null,
            "border": null,
            "bottom": null,
            "display": null,
            "flex": null,
            "flex_flow": null,
            "grid_area": null,
            "grid_auto_columns": null,
            "grid_auto_flow": null,
            "grid_auto_rows": null,
            "grid_column": null,
            "grid_gap": null,
            "grid_row": null,
            "grid_template_areas": null,
            "grid_template_columns": null,
            "grid_template_rows": null,
            "height": null,
            "justify_content": null,
            "justify_items": null,
            "left": null,
            "margin": null,
            "max_height": null,
            "max_width": null,
            "min_height": null,
            "min_width": null,
            "object_fit": null,
            "object_position": null,
            "order": null,
            "overflow": null,
            "overflow_x": null,
            "overflow_y": null,
            "padding": null,
            "right": null,
            "top": null,
            "visibility": null,
            "width": null
          }
        },
        "a54b6950dafa43e988ed42c1bbddaed0": {
          "model_module": "@jupyter-widgets/controls",
          "model_name": "DescriptionStyleModel",
          "model_module_version": "1.5.0",
          "state": {
            "_model_module": "@jupyter-widgets/controls",
            "_model_module_version": "1.5.0",
            "_model_name": "DescriptionStyleModel",
            "_view_count": null,
            "_view_module": "@jupyter-widgets/base",
            "_view_module_version": "1.2.0",
            "_view_name": "StyleView",
            "description_width": ""
          }
        },
        "ee9519f5535b419b84f3a406eec529db": {
          "model_module": "@jupyter-widgets/base",
          "model_name": "LayoutModel",
          "model_module_version": "1.2.0",
          "state": {
            "_model_module": "@jupyter-widgets/base",
            "_model_module_version": "1.2.0",
            "_model_name": "LayoutModel",
            "_view_count": null,
            "_view_module": "@jupyter-widgets/base",
            "_view_module_version": "1.2.0",
            "_view_name": "LayoutView",
            "align_content": null,
            "align_items": null,
            "align_self": null,
            "border": null,
            "bottom": null,
            "display": null,
            "flex": null,
            "flex_flow": null,
            "grid_area": null,
            "grid_auto_columns": null,
            "grid_auto_flow": null,
            "grid_auto_rows": null,
            "grid_column": null,
            "grid_gap": null,
            "grid_row": null,
            "grid_template_areas": null,
            "grid_template_columns": null,
            "grid_template_rows": null,
            "height": null,
            "justify_content": null,
            "justify_items": null,
            "left": null,
            "margin": null,
            "max_height": null,
            "max_width": null,
            "min_height": null,
            "min_width": null,
            "object_fit": null,
            "object_position": null,
            "order": null,
            "overflow": null,
            "overflow_x": null,
            "overflow_y": null,
            "padding": null,
            "right": null,
            "top": null,
            "visibility": null,
            "width": null
          }
        },
        "92ca748791934739abe6ac614963d831": {
          "model_module": "@jupyter-widgets/controls",
          "model_name": "ProgressStyleModel",
          "model_module_version": "1.5.0",
          "state": {
            "_model_module": "@jupyter-widgets/controls",
            "_model_module_version": "1.5.0",
            "_model_name": "ProgressStyleModel",
            "_view_count": null,
            "_view_module": "@jupyter-widgets/base",
            "_view_module_version": "1.2.0",
            "_view_name": "StyleView",
            "bar_color": null,
            "description_width": ""
          }
        },
        "4bd4bae738a1457393b7dcb122eb748d": {
          "model_module": "@jupyter-widgets/base",
          "model_name": "LayoutModel",
          "model_module_version": "1.2.0",
          "state": {
            "_model_module": "@jupyter-widgets/base",
            "_model_module_version": "1.2.0",
            "_model_name": "LayoutModel",
            "_view_count": null,
            "_view_module": "@jupyter-widgets/base",
            "_view_module_version": "1.2.0",
            "_view_name": "LayoutView",
            "align_content": null,
            "align_items": null,
            "align_self": null,
            "border": null,
            "bottom": null,
            "display": null,
            "flex": null,
            "flex_flow": null,
            "grid_area": null,
            "grid_auto_columns": null,
            "grid_auto_flow": null,
            "grid_auto_rows": null,
            "grid_column": null,
            "grid_gap": null,
            "grid_row": null,
            "grid_template_areas": null,
            "grid_template_columns": null,
            "grid_template_rows": null,
            "height": null,
            "justify_content": null,
            "justify_items": null,
            "left": null,
            "margin": null,
            "max_height": null,
            "max_width": null,
            "min_height": null,
            "min_width": null,
            "object_fit": null,
            "object_position": null,
            "order": null,
            "overflow": null,
            "overflow_x": null,
            "overflow_y": null,
            "padding": null,
            "right": null,
            "top": null,
            "visibility": null,
            "width": null
          }
        },
        "1aa7d9626b254f9cb28394a116e034b7": {
          "model_module": "@jupyter-widgets/controls",
          "model_name": "DescriptionStyleModel",
          "model_module_version": "1.5.0",
          "state": {
            "_model_module": "@jupyter-widgets/controls",
            "_model_module_version": "1.5.0",
            "_model_name": "DescriptionStyleModel",
            "_view_count": null,
            "_view_module": "@jupyter-widgets/base",
            "_view_module_version": "1.2.0",
            "_view_name": "StyleView",
            "description_width": ""
          }
        },
        "dd784c43a8a24f6a8bb261fa75490592": {
          "model_module": "@jupyter-widgets/controls",
          "model_name": "HBoxModel",
          "model_module_version": "1.5.0",
          "state": {
            "_dom_classes": [],
            "_model_module": "@jupyter-widgets/controls",
            "_model_module_version": "1.5.0",
            "_model_name": "HBoxModel",
            "_view_count": null,
            "_view_module": "@jupyter-widgets/controls",
            "_view_module_version": "1.5.0",
            "_view_name": "HBoxView",
            "box_style": "",
            "children": [
              "IPY_MODEL_ab7eb7e05a314f0497dd1ca2a47e8078",
              "IPY_MODEL_b440907126f14969a115677051c8d544",
              "IPY_MODEL_4f051dfeede7428b9f1062924e2b2d4b"
            ],
            "layout": "IPY_MODEL_e0619c67691748e9981f3208221bf77b"
          }
        },
        "ab7eb7e05a314f0497dd1ca2a47e8078": {
          "model_module": "@jupyter-widgets/controls",
          "model_name": "HTMLModel",
          "model_module_version": "1.5.0",
          "state": {
            "_dom_classes": [],
            "_model_module": "@jupyter-widgets/controls",
            "_model_module_version": "1.5.0",
            "_model_name": "HTMLModel",
            "_view_count": null,
            "_view_module": "@jupyter-widgets/controls",
            "_view_module_version": "1.5.0",
            "_view_name": "HTMLView",
            "description": "",
            "description_tooltip": null,
            "layout": "IPY_MODEL_1794b8d767c14551b2d4eba121569c4c",
            "placeholder": "​",
            "style": "IPY_MODEL_4614c714d7dd4191950877a8d92202dc",
            "value": ""
          }
        },
        "b440907126f14969a115677051c8d544": {
          "model_module": "@jupyter-widgets/controls",
          "model_name": "FloatProgressModel",
          "model_module_version": "1.5.0",
          "state": {
            "_dom_classes": [],
            "_model_module": "@jupyter-widgets/controls",
            "_model_module_version": "1.5.0",
            "_model_name": "FloatProgressModel",
            "_view_count": null,
            "_view_module": "@jupyter-widgets/controls",
            "_view_module_version": "1.5.0",
            "_view_name": "ProgressView",
            "bar_style": "success",
            "description": "",
            "description_tooltip": null,
            "layout": "IPY_MODEL_7238cd2d0c584efb9d5ee9e8ed4dd6ab",
            "max": 1,
            "min": 0,
            "orientation": "horizontal",
            "style": "IPY_MODEL_4708f8e743424a3a86b024f087c25aa2",
            "value": 0
          }
        },
        "4f051dfeede7428b9f1062924e2b2d4b": {
          "model_module": "@jupyter-widgets/controls",
          "model_name": "HTMLModel",
          "model_module_version": "1.5.0",
          "state": {
            "_dom_classes": [],
            "_model_module": "@jupyter-widgets/controls",
            "_model_module_version": "1.5.0",
            "_model_name": "HTMLModel",
            "_view_count": null,
            "_view_module": "@jupyter-widgets/controls",
            "_view_module_version": "1.5.0",
            "_view_name": "HTMLView",
            "description": "",
            "description_tooltip": null,
            "layout": "IPY_MODEL_5be2729083b34bb9852f6b8e3756825d",
            "placeholder": "​",
            "style": "IPY_MODEL_9f9b4dc4b6de4276aee9325eef3389cc",
            "value": " 0/0 [00:00&lt;?, ?it/s]"
          }
        },
        "e0619c67691748e9981f3208221bf77b": {
          "model_module": "@jupyter-widgets/base",
          "model_name": "LayoutModel",
          "model_module_version": "1.2.0",
          "state": {
            "_model_module": "@jupyter-widgets/base",
            "_model_module_version": "1.2.0",
            "_model_name": "LayoutModel",
            "_view_count": null,
            "_view_module": "@jupyter-widgets/base",
            "_view_module_version": "1.2.0",
            "_view_name": "LayoutView",
            "align_content": null,
            "align_items": null,
            "align_self": null,
            "border": null,
            "bottom": null,
            "display": null,
            "flex": null,
            "flex_flow": null,
            "grid_area": null,
            "grid_auto_columns": null,
            "grid_auto_flow": null,
            "grid_auto_rows": null,
            "grid_column": null,
            "grid_gap": null,
            "grid_row": null,
            "grid_template_areas": null,
            "grid_template_columns": null,
            "grid_template_rows": null,
            "height": null,
            "justify_content": null,
            "justify_items": null,
            "left": null,
            "margin": null,
            "max_height": null,
            "max_width": null,
            "min_height": null,
            "min_width": null,
            "object_fit": null,
            "object_position": null,
            "order": null,
            "overflow": null,
            "overflow_x": null,
            "overflow_y": null,
            "padding": null,
            "right": null,
            "top": null,
            "visibility": null,
            "width": null
          }
        },
        "1794b8d767c14551b2d4eba121569c4c": {
          "model_module": "@jupyter-widgets/base",
          "model_name": "LayoutModel",
          "model_module_version": "1.2.0",
          "state": {
            "_model_module": "@jupyter-widgets/base",
            "_model_module_version": "1.2.0",
            "_model_name": "LayoutModel",
            "_view_count": null,
            "_view_module": "@jupyter-widgets/base",
            "_view_module_version": "1.2.0",
            "_view_name": "LayoutView",
            "align_content": null,
            "align_items": null,
            "align_self": null,
            "border": null,
            "bottom": null,
            "display": null,
            "flex": null,
            "flex_flow": null,
            "grid_area": null,
            "grid_auto_columns": null,
            "grid_auto_flow": null,
            "grid_auto_rows": null,
            "grid_column": null,
            "grid_gap": null,
            "grid_row": null,
            "grid_template_areas": null,
            "grid_template_columns": null,
            "grid_template_rows": null,
            "height": null,
            "justify_content": null,
            "justify_items": null,
            "left": null,
            "margin": null,
            "max_height": null,
            "max_width": null,
            "min_height": null,
            "min_width": null,
            "object_fit": null,
            "object_position": null,
            "order": null,
            "overflow": null,
            "overflow_x": null,
            "overflow_y": null,
            "padding": null,
            "right": null,
            "top": null,
            "visibility": null,
            "width": null
          }
        },
        "4614c714d7dd4191950877a8d92202dc": {
          "model_module": "@jupyter-widgets/controls",
          "model_name": "DescriptionStyleModel",
          "model_module_version": "1.5.0",
          "state": {
            "_model_module": "@jupyter-widgets/controls",
            "_model_module_version": "1.5.0",
            "_model_name": "DescriptionStyleModel",
            "_view_count": null,
            "_view_module": "@jupyter-widgets/base",
            "_view_module_version": "1.2.0",
            "_view_name": "StyleView",
            "description_width": ""
          }
        },
        "7238cd2d0c584efb9d5ee9e8ed4dd6ab": {
          "model_module": "@jupyter-widgets/base",
          "model_name": "LayoutModel",
          "model_module_version": "1.2.0",
          "state": {
            "_model_module": "@jupyter-widgets/base",
            "_model_module_version": "1.2.0",
            "_model_name": "LayoutModel",
            "_view_count": null,
            "_view_module": "@jupyter-widgets/base",
            "_view_module_version": "1.2.0",
            "_view_name": "LayoutView",
            "align_content": null,
            "align_items": null,
            "align_self": null,
            "border": null,
            "bottom": null,
            "display": null,
            "flex": null,
            "flex_flow": null,
            "grid_area": null,
            "grid_auto_columns": null,
            "grid_auto_flow": null,
            "grid_auto_rows": null,
            "grid_column": null,
            "grid_gap": null,
            "grid_row": null,
            "grid_template_areas": null,
            "grid_template_columns": null,
            "grid_template_rows": null,
            "height": null,
            "justify_content": null,
            "justify_items": null,
            "left": null,
            "margin": null,
            "max_height": null,
            "max_width": null,
            "min_height": null,
            "min_width": null,
            "object_fit": null,
            "object_position": null,
            "order": null,
            "overflow": null,
            "overflow_x": null,
            "overflow_y": null,
            "padding": null,
            "right": null,
            "top": null,
            "visibility": null,
            "width": "20px"
          }
        },
        "4708f8e743424a3a86b024f087c25aa2": {
          "model_module": "@jupyter-widgets/controls",
          "model_name": "ProgressStyleModel",
          "model_module_version": "1.5.0",
          "state": {
            "_model_module": "@jupyter-widgets/controls",
            "_model_module_version": "1.5.0",
            "_model_name": "ProgressStyleModel",
            "_view_count": null,
            "_view_module": "@jupyter-widgets/base",
            "_view_module_version": "1.2.0",
            "_view_name": "StyleView",
            "bar_color": null,
            "description_width": ""
          }
        },
        "5be2729083b34bb9852f6b8e3756825d": {
          "model_module": "@jupyter-widgets/base",
          "model_name": "LayoutModel",
          "model_module_version": "1.2.0",
          "state": {
            "_model_module": "@jupyter-widgets/base",
            "_model_module_version": "1.2.0",
            "_model_name": "LayoutModel",
            "_view_count": null,
            "_view_module": "@jupyter-widgets/base",
            "_view_module_version": "1.2.0",
            "_view_name": "LayoutView",
            "align_content": null,
            "align_items": null,
            "align_self": null,
            "border": null,
            "bottom": null,
            "display": null,
            "flex": null,
            "flex_flow": null,
            "grid_area": null,
            "grid_auto_columns": null,
            "grid_auto_flow": null,
            "grid_auto_rows": null,
            "grid_column": null,
            "grid_gap": null,
            "grid_row": null,
            "grid_template_areas": null,
            "grid_template_columns": null,
            "grid_template_rows": null,
            "height": null,
            "justify_content": null,
            "justify_items": null,
            "left": null,
            "margin": null,
            "max_height": null,
            "max_width": null,
            "min_height": null,
            "min_width": null,
            "object_fit": null,
            "object_position": null,
            "order": null,
            "overflow": null,
            "overflow_x": null,
            "overflow_y": null,
            "padding": null,
            "right": null,
            "top": null,
            "visibility": null,
            "width": null
          }
        },
        "9f9b4dc4b6de4276aee9325eef3389cc": {
          "model_module": "@jupyter-widgets/controls",
          "model_name": "DescriptionStyleModel",
          "model_module_version": "1.5.0",
          "state": {
            "_model_module": "@jupyter-widgets/controls",
            "_model_module_version": "1.5.0",
            "_model_name": "DescriptionStyleModel",
            "_view_count": null,
            "_view_module": "@jupyter-widgets/base",
            "_view_module_version": "1.2.0",
            "_view_name": "StyleView",
            "description_width": ""
          }
        }
      }
    }
  },
  "cells": [
    {
      "cell_type": "code",
      "execution_count": null,
      "metadata": {
        "id": "8Wf-gZYRmwsZ"
      },
      "outputs": [],
      "source": [
        "#Homework6"
      ]
    },
    {
      "cell_type": "markdown",
      "source": [
        "## Question 2: Building a Custom Chatbot with Hugging Face"
      ],
      "metadata": {
        "id": "_1n6rwkPm8JB"
      }
    },
    {
      "cell_type": "markdown",
      "source": [
        "For this task you need to explore Hugging Face, and create a customized chatbot for a domain-specific application of your choice (health/finance/tax etc.), and evaluate its performance"
      ],
      "metadata": {
        "id": "8ZPZxzRjnz0t"
      }
    },
    {
      "cell_type": "markdown",
      "source": [
        "(a) Model Implementation and Training (50 points)\n",
        "1. Model Selection and Fine-Tuning:\n",
        "  ○ Choose a pre-trained models from Hugging Face suitable for specific\n",
        "applications (e.g., healthcare, finance, or tax assistance). Document their:\n",
        "\n",
        "        ■ Key features (e.g., transformers, attention mechanisms).\n",
        "\n",
        "        ■ Strengths and potential weaknesses in handling domain-specific tasks.\n",
        "\n",
        "  ○ Fine-tune the models on a domain-specific dataset of your choice.\n",
        "\n",
        "        Describe the fine-tuning process, including:\n",
        "\n",
        "           ■ Optimizer choice (e.g., Adam, SGD).\n",
        "\n",
        "            ■ Learning rate and batch size settings.\n",
        "\n",
        "            ■ Number of epochs and stopping criteria"
      ],
      "metadata": {
        "id": "GBIEtbIzn5ZU"
      }
    },
    {
      "cell_type": "markdown",
      "source": [
        "2. Loss Function and Metrics:\n",
        "\n",
        "    ○ Choose an appropriate loss function for the chatbot’s response generation task. Explain your choice.\n",
        "\n",
        "    ○ Identify evaluation metrics (e.g., BLEU, user satisfaction score) and justify their relevance.\n",
        "\n",
        "3. Multi-Turn Dialogue Handling:\n",
        "\n",
        "    ○ Implement mechanisms to maintain context across multiple turns in a conversation.\n",
        "    \n",
        "    ○ Explain how the architecture supports multi-turn dialogue and handles potential pitfalls like irrelevant responses."
      ],
      "metadata": {
        "id": "76CwoYpbn5eM"
      }
    },
    {
      "cell_type": "code",
      "source": [
        "##"
      ],
      "metadata": {
        "id": "N71If0JLnt_6"
      },
      "execution_count": null,
      "outputs": []
    },
    {
      "cell_type": "markdown",
      "source": [
        "  (b) Evaluation and Analysis (15 points)\n",
        "\n",
        "        1. Evaluation:\n",
        "\n",
        "    ○ Evaluate the accuracy of fine-tuned models using metrics like BLEU.\n",
        "\n",
        "    ○ Provide sample dialogues generated by the chatbot in your chosen application.\n",
        "\n",
        "    ○ Highlight improvements or limitations observed in the responses.\n",
        "\n",
        "      2. Comparison with Base Model:\n",
        "    ○ Discuss the trade-offs in terms of accuracy, response relevance, and computational efficiency.\n",
        "\n",
        "(c) Future Enhancements (5 points)\n",
        "\n",
        "    1. Error Analysis:\n",
        "\n",
        "    ○ Identify common errors or limitations in the chatbot’s responses.\n",
        "\n",
        "    ○ Suggest potential improvements, such as:\n",
        "\n",
        "        ■ Expanding the training dataset.\n",
        "        ■ Knowledge distillation.\n",
        "\n",
        "\n",
        "    2. Scalability Considerations:\n",
        "\n",
        "    ○ Discuss how the chatbot could be scaled to handle large datasets or deployed in real-world applications.\n"
      ],
      "metadata": {
        "id": "EnKGpHEjo1GI"
      }
    },
    {
      "cell_type": "code",
      "source": [
        "!pip install datasets"
      ],
      "metadata": {
        "colab": {
          "base_uri": "https://localhost:8080/",
          "height": 0
        },
        "id": "JOnxewGma8hW",
        "outputId": "6bc70741-6ab2-4dc8-c585-a7b645f02d1e"
      },
      "execution_count": 2,
      "outputs": [
        {
          "output_type": "stream",
          "name": "stdout",
          "text": [
            "Collecting datasets\n",
            "  Downloading datasets-3.3.2-py3-none-any.whl.metadata (19 kB)\n",
            "Requirement already satisfied: filelock in /usr/local/lib/python3.11/dist-packages (from datasets) (3.17.0)\n",
            "Requirement already satisfied: numpy>=1.17 in /usr/local/lib/python3.11/dist-packages (from datasets) (1.26.4)\n",
            "Requirement already satisfied: pyarrow>=15.0.0 in /usr/local/lib/python3.11/dist-packages (from datasets) (18.1.0)\n",
            "Collecting dill<0.3.9,>=0.3.0 (from datasets)\n",
            "  Downloading dill-0.3.8-py3-none-any.whl.metadata (10 kB)\n",
            "Requirement already satisfied: pandas in /usr/local/lib/python3.11/dist-packages (from datasets) (2.2.2)\n",
            "Requirement already satisfied: requests>=2.32.2 in /usr/local/lib/python3.11/dist-packages (from datasets) (2.32.3)\n",
            "Requirement already satisfied: tqdm>=4.66.3 in /usr/local/lib/python3.11/dist-packages (from datasets) (4.67.1)\n",
            "Collecting xxhash (from datasets)\n",
            "  Downloading xxhash-3.5.0-cp311-cp311-manylinux_2_17_x86_64.manylinux2014_x86_64.whl.metadata (12 kB)\n",
            "Collecting multiprocess<0.70.17 (from datasets)\n",
            "  Downloading multiprocess-0.70.16-py311-none-any.whl.metadata (7.2 kB)\n",
            "Requirement already satisfied: fsspec<=2024.12.0,>=2023.1.0 in /usr/local/lib/python3.11/dist-packages (from fsspec[http]<=2024.12.0,>=2023.1.0->datasets) (2024.10.0)\n",
            "Requirement already satisfied: aiohttp in /usr/local/lib/python3.11/dist-packages (from datasets) (3.11.13)\n",
            "Requirement already satisfied: huggingface-hub>=0.24.0 in /usr/local/lib/python3.11/dist-packages (from datasets) (0.28.1)\n",
            "Requirement already satisfied: packaging in /usr/local/lib/python3.11/dist-packages (from datasets) (24.2)\n",
            "Requirement already satisfied: pyyaml>=5.1 in /usr/local/lib/python3.11/dist-packages (from datasets) (6.0.2)\n",
            "Requirement already satisfied: aiohappyeyeballs>=2.3.0 in /usr/local/lib/python3.11/dist-packages (from aiohttp->datasets) (2.4.6)\n",
            "Requirement already satisfied: aiosignal>=1.1.2 in /usr/local/lib/python3.11/dist-packages (from aiohttp->datasets) (1.3.2)\n",
            "Requirement already satisfied: attrs>=17.3.0 in /usr/local/lib/python3.11/dist-packages (from aiohttp->datasets) (25.1.0)\n",
            "Requirement already satisfied: frozenlist>=1.1.1 in /usr/local/lib/python3.11/dist-packages (from aiohttp->datasets) (1.5.0)\n",
            "Requirement already satisfied: multidict<7.0,>=4.5 in /usr/local/lib/python3.11/dist-packages (from aiohttp->datasets) (6.1.0)\n",
            "Requirement already satisfied: propcache>=0.2.0 in /usr/local/lib/python3.11/dist-packages (from aiohttp->datasets) (0.3.0)\n",
            "Requirement already satisfied: yarl<2.0,>=1.17.0 in /usr/local/lib/python3.11/dist-packages (from aiohttp->datasets) (1.18.3)\n",
            "Requirement already satisfied: typing-extensions>=3.7.4.3 in /usr/local/lib/python3.11/dist-packages (from huggingface-hub>=0.24.0->datasets) (4.12.2)\n",
            "Requirement already satisfied: charset-normalizer<4,>=2 in /usr/local/lib/python3.11/dist-packages (from requests>=2.32.2->datasets) (3.4.1)\n",
            "Requirement already satisfied: idna<4,>=2.5 in /usr/local/lib/python3.11/dist-packages (from requests>=2.32.2->datasets) (3.10)\n",
            "Requirement already satisfied: urllib3<3,>=1.21.1 in /usr/local/lib/python3.11/dist-packages (from requests>=2.32.2->datasets) (2.3.0)\n",
            "Requirement already satisfied: certifi>=2017.4.17 in /usr/local/lib/python3.11/dist-packages (from requests>=2.32.2->datasets) (2025.1.31)\n",
            "Requirement already satisfied: python-dateutil>=2.8.2 in /usr/local/lib/python3.11/dist-packages (from pandas->datasets) (2.8.2)\n",
            "Requirement already satisfied: pytz>=2020.1 in /usr/local/lib/python3.11/dist-packages (from pandas->datasets) (2025.1)\n",
            "Requirement already satisfied: tzdata>=2022.7 in /usr/local/lib/python3.11/dist-packages (from pandas->datasets) (2025.1)\n",
            "Requirement already satisfied: six>=1.5 in /usr/local/lib/python3.11/dist-packages (from python-dateutil>=2.8.2->pandas->datasets) (1.17.0)\n",
            "Downloading datasets-3.3.2-py3-none-any.whl (485 kB)\n",
            "\u001b[2K   \u001b[90m━━━━━━━━━━━━━━━━━━━━━━━━━━━━━━━━━━━━━━━━\u001b[0m \u001b[32m485.4/485.4 kB\u001b[0m \u001b[31m7.6 MB/s\u001b[0m eta \u001b[36m0:00:00\u001b[0m\n",
            "\u001b[?25hDownloading dill-0.3.8-py3-none-any.whl (116 kB)\n",
            "\u001b[2K   \u001b[90m━━━━━━━━━━━━━━━━━━━━━━━━━━━━━━━━━━━━━━━━\u001b[0m \u001b[32m116.3/116.3 kB\u001b[0m \u001b[31m4.0 MB/s\u001b[0m eta \u001b[36m0:00:00\u001b[0m\n",
            "\u001b[?25hDownloading multiprocess-0.70.16-py311-none-any.whl (143 kB)\n",
            "\u001b[2K   \u001b[90m━━━━━━━━━━━━━━━━━━━━━━━━━━━━━━━━━━━━━━━━\u001b[0m \u001b[32m143.5/143.5 kB\u001b[0m \u001b[31m6.9 MB/s\u001b[0m eta \u001b[36m0:00:00\u001b[0m\n",
            "\u001b[?25hDownloading xxhash-3.5.0-cp311-cp311-manylinux_2_17_x86_64.manylinux2014_x86_64.whl (194 kB)\n",
            "\u001b[2K   \u001b[90m━━━━━━━━━━━━━━━━━━━━━━━━━━━━━━━━━━━━━━━━\u001b[0m \u001b[32m194.8/194.8 kB\u001b[0m \u001b[31m7.2 MB/s\u001b[0m eta \u001b[36m0:00:00\u001b[0m\n",
            "\u001b[?25hInstalling collected packages: xxhash, dill, multiprocess, datasets\n",
            "Successfully installed datasets-3.3.2 dill-0.3.8 multiprocess-0.70.16 xxhash-3.5.0\n"
          ]
        }
      ]
    },
    {
      "cell_type": "code",
      "source": [
        "#Answer\n",
        "\n",
        "from datasets import load_dataset"
      ],
      "metadata": {
        "id": "_rLvmgdGprqG"
      },
      "execution_count": 3,
      "outputs": []
    },
    {
      "cell_type": "code",
      "source": [
        "#from google.colab import drive\n",
        "#drive.mount('/content/drive')"
      ],
      "metadata": {
        "id": "1kEAY69ceoX3"
      },
      "execution_count": null,
      "outputs": []
    },
    {
      "cell_type": "code",
      "source": [
        "#https://huggingface.co/datasets/joopedro/animals-description\n",
        "#data = load_dataset(\"issai/LLM_for_Dietary_Recommendation_System\")\n",
        "data = load_dataset(\"issai/LLM_for_Dietary_Recommendation_System\")"
      ],
      "metadata": {
        "colab": {
          "base_uri": "https://localhost:8080/",
          "height": 368,
          "referenced_widgets": [
            "1e8bf435bfb542558a0c44516e2b0582",
            "b52d9e14e5bf4ff38fd5514a8996e81a",
            "e28d851e627047848df8b14c0c203f69",
            "ded824ae96964d8eb048053a48ee9044",
            "afede4ba60534e0482e308c71675130b",
            "1d62ad2dbd0e496a9e6aa070a5d6ced3",
            "ecbfdd0b4ef04e7c99f1e93b5f6e3c94",
            "21905b0628764fc5ac81a5432460687f",
            "dfecdbe515ce451d8ff4e0833a380a69",
            "e51147c99dc14355a9c8c3afad84beb3",
            "e299f2e5f1544f978dd7ff69ff0e6d2a",
            "e298888351264ef4aba9ead779b2fe12",
            "2776b819d071428ea097cdae7893fdd9",
            "d262f3ebddc64e08842a4d2322d70765",
            "bbfbe0c92d8e4b2fa5f1621cd49480e4",
            "73c2c2eb0bc740bbbb7b7f5a34703089",
            "84c2c8757d1b445490bb9b5edb3a80d0",
            "0333df81406b4af48dca3246cfbcdf71",
            "dcd43e65ee8148fcbd5b22ec93adf79c",
            "1fe5da81e67b48279b68611cd393a0f7",
            "58c4604ebcf842f7a098b5676fc9b076",
            "39e3e35bb19f4e65b9efd55e060bc091",
            "61e60e85849b45739cd006a577b95fe9",
            "0f72599f3cd04fa28f7bc178b720a425",
            "b4217965eb2b4980be5a31b46b9b3712",
            "99a117f5180643ad980539bed31119b6",
            "37a221c691694aae82087546a958b1cd",
            "0d6b8c7fafff43f1a357859eca4089f2",
            "3502d80e6679449f808133da6bf9571e",
            "18ce770b785f47ea95fb28bdc59dfceb",
            "251a91af2427455394476a9391c393a0",
            "f4757f82a82b4ae18b26f11acc33d5ee",
            "a935c1718d3f4d4a8666dbd3517a24a6",
            "e4d97a6052444de19727a371e5951513",
            "29449bdf220f4beea04dea2166e63af3",
            "010102b44a7743f9ba6c6ec6586b6fab",
            "1416cfb812c3463e993cf6827b82d53e",
            "cbe6337a2b3f4271bdba3328771fe09d",
            "2e6c8540f2ad40e5ba4d7c25b115ceb4",
            "b1178088d49f46bcbcb69a91136e2769",
            "2dff86ad23e340c8aba5bf519b4826b7",
            "70bd6118bba849b18f6ec533df90dd4a",
            "316bb2bcf0b0448991451bd95484c184",
            "f2043642a6684bc4b46aeb3999c296dc",
            "91b59efda1e4404e8f708751c9e67a06",
            "d3fa4c77b79e423a9d12a57d5e8d5c76",
            "5cac21ee97704c5d811e02e979dbb9fc",
            "bcc6b91d164445388113c112c6612087",
            "a60d76307ebd4272ac0513341b8eac52",
            "8db7a97c16b243cb8fda0dd4f96e67cf",
            "3b42620268744e4ebf48b9823bb7e56c",
            "862a99a722bb4612bb2c91c9c46efa25",
            "bada73c732c840f08f875f42d85dfe1a",
            "e84549f842dc4306aee6ce80b5cf7561",
            "663e0ebbb4d74272a4576bcecfe731fb",
            "773f6e69386a41f6958402b733d5b4ae",
            "294f8f7041794b6ea65bcdcedd6ae6ea",
            "87b16ee31d074aa98ad25657f7c5ec36",
            "d89e80642a64475ab025535935da1ca8",
            "cc8d341a5ca848f1af6b917b37694964",
            "cbed072086594749880ce1fc291aaf88",
            "80662bf0869449e9b10ec3a8daf2095b",
            "5b6567f19a39409e97b951b3db68eb77",
            "0542d15aa85441918aa47ed8398d6344",
            "54cb685ce3a94526b50aaffc16d3cd59",
            "2b12343b619c4567b25ff84d03bf4ef7",
            "e5a416bf9e474fe7a7ca98d2a0617ce3",
            "8c3267935fd8489ab18e5abce166c3de",
            "7c14af7a053d44e4a76361f5d09dad86",
            "4d3b880c0ac84229b48a68ca7036c211",
            "f6ebcb24d1824e1d96c4f966fa60887a",
            "413743eece7747b58069a4fc94248736",
            "a54b6950dafa43e988ed42c1bbddaed0",
            "ee9519f5535b419b84f3a406eec529db",
            "92ca748791934739abe6ac614963d831",
            "4bd4bae738a1457393b7dcb122eb748d",
            "1aa7d9626b254f9cb28394a116e034b7"
          ]
        },
        "id": "FAQNLGUqbCg8",
        "outputId": "b518790b-1bee-4230-94a7-50aaf6ba9f89"
      },
      "execution_count": 4,
      "outputs": [
        {
          "output_type": "stream",
          "name": "stderr",
          "text": [
            "/usr/local/lib/python3.11/dist-packages/huggingface_hub/utils/_auth.py:94: UserWarning: \n",
            "The secret `HF_TOKEN` does not exist in your Colab secrets.\n",
            "To authenticate with the Hugging Face Hub, create a token in your settings tab (https://huggingface.co/settings/tokens), set it as secret in your Google Colab and restart your session.\n",
            "You will be able to reuse this secret in all of your notebooks.\n",
            "Please note that authentication is recommended but still optional to access public models or datasets.\n",
            "  warnings.warn(\n"
          ]
        },
        {
          "output_type": "display_data",
          "data": {
            "text/plain": [
              "README.md:   0%|          | 0.00/4.70k [00:00<?, ?B/s]"
            ],
            "application/vnd.jupyter.widget-view+json": {
              "version_major": 2,
              "version_minor": 0,
              "model_id": "1e8bf435bfb542558a0c44516e2b0582"
            }
          },
          "metadata": {}
        },
        {
          "output_type": "display_data",
          "data": {
            "text/plain": [
              "Cases_and_Responses%2Fcases_results.zip:   0%|          | 0.00/131k [00:00<?, ?B/s]"
            ],
            "application/vnd.jupyter.widget-view+json": {
              "version_major": 2,
              "version_minor": 0,
              "model_id": "e298888351264ef4aba9ead779b2fe12"
            }
          },
          "metadata": {}
        },
        {
          "output_type": "display_data",
          "data": {
            "text/plain": [
              "(…)ases_and_Responses%2Fcases_results_1.zip:   0%|          | 0.00/158k [00:00<?, ?B/s]"
            ],
            "application/vnd.jupyter.widget-view+json": {
              "version_major": 2,
              "version_minor": 0,
              "model_id": "61e60e85849b45739cd006a577b95fe9"
            }
          },
          "metadata": {}
        },
        {
          "output_type": "display_data",
          "data": {
            "text/plain": [
              "(…)s_and_Responses%2Fcases_results_1_tr.zip:   0%|          | 0.00/191k [00:00<?, ?B/s]"
            ],
            "application/vnd.jupyter.widget-view+json": {
              "version_major": 2,
              "version_minor": 0,
              "model_id": "e4d97a6052444de19727a371e5951513"
            }
          },
          "metadata": {}
        },
        {
          "output_type": "display_data",
          "data": {
            "text/plain": [
              "(…)ases_and_Responses%2Fcases_results_2.zip:   0%|          | 0.00/159k [00:00<?, ?B/s]"
            ],
            "application/vnd.jupyter.widget-view+json": {
              "version_major": 2,
              "version_minor": 0,
              "model_id": "91b59efda1e4404e8f708751c9e67a06"
            }
          },
          "metadata": {}
        },
        {
          "output_type": "display_data",
          "data": {
            "text/plain": [
              "(…)s_and_Responses%2Fcases_results_2_tr.zip:   0%|          | 0.00/182k [00:00<?, ?B/s]"
            ],
            "application/vnd.jupyter.widget-view+json": {
              "version_major": 2,
              "version_minor": 0,
              "model_id": "773f6e69386a41f6958402b733d5b4ae"
            }
          },
          "metadata": {}
        },
        {
          "output_type": "display_data",
          "data": {
            "text/plain": [
              "Generating train split:   0%|          | 0/11634 [00:00<?, ? examples/s]"
            ],
            "application/vnd.jupyter.widget-view+json": {
              "version_major": 2,
              "version_minor": 0,
              "model_id": "e5a416bf9e474fe7a7ca98d2a0617ce3"
            }
          },
          "metadata": {}
        }
      ]
    },
    {
      "cell_type": "code",
      "source": [
        "data"
      ],
      "metadata": {
        "colab": {
          "base_uri": "https://localhost:8080/",
          "height": 0
        },
        "id": "y3ACeswab8b1",
        "outputId": "4263cfd7-9d14-4bae-9186-e7ddb28a6699"
      },
      "execution_count": 5,
      "outputs": [
        {
          "output_type": "execute_result",
          "data": {
            "text/plain": [
              "DatasetDict({\n",
              "    train: Dataset({\n",
              "        features: ['text'],\n",
              "        num_rows: 11634\n",
              "    })\n",
              "})"
            ]
          },
          "metadata": {},
          "execution_count": 5
        }
      ]
    },
    {
      "cell_type": "code",
      "source": [
        "import os\n",
        "\n",
        "# Disable W&B before any W&B-related code runs\n",
        "os.environ[\"WANDB_MODE\"] = \"offline\""
      ],
      "metadata": {
        "id": "2x6WZZtmprxT"
      },
      "execution_count": 7,
      "outputs": []
    },
    {
      "cell_type": "code",
      "source": [
        "import pandas as pd\n",
        "import numpy as np\n",
        "import re\n"
      ],
      "metadata": {
        "id": "7i7bKFP3Iuh3"
      },
      "execution_count": 8,
      "outputs": []
    },
    {
      "cell_type": "code",
      "source": [
        "from transformers import TextDataset, DataCollatorForLanguageModeling\n",
        "from transformers import GPT2Tokenizer, GPT2LMHeadModel\n",
        "from transformers import Trainer, TrainingArguments\n",
        "import os"
      ],
      "metadata": {
        "id": "j7a9MyaurNmX",
        "colab": {
          "base_uri": "https://localhost:8080/",
          "height": 87,
          "referenced_widgets": [
            "dd784c43a8a24f6a8bb261fa75490592",
            "ab7eb7e05a314f0497dd1ca2a47e8078",
            "b440907126f14969a115677051c8d544",
            "4f051dfeede7428b9f1062924e2b2d4b",
            "e0619c67691748e9981f3208221bf77b",
            "1794b8d767c14551b2d4eba121569c4c",
            "4614c714d7dd4191950877a8d92202dc",
            "7238cd2d0c584efb9d5ee9e8ed4dd6ab",
            "4708f8e743424a3a86b024f087c25aa2",
            "5be2729083b34bb9852f6b8e3756825d",
            "9f9b4dc4b6de4276aee9325eef3389cc"
          ]
        },
        "outputId": "7695e1cc-842c-4de5-d1bc-bb1d4cd7bb03"
      },
      "execution_count": 9,
      "outputs": [
        {
          "output_type": "stream",
          "name": "stderr",
          "text": [
            "The cache for model files in Transformers v4.22.0 has been updated. Migrating your old cache. This is a one-time only operation. You can interrupt this and resume the migration later on by calling `transformers.utils.move_cache()`.\n"
          ]
        },
        {
          "output_type": "display_data",
          "data": {
            "text/plain": [
              "0it [00:00, ?it/s]"
            ],
            "application/vnd.jupyter.widget-view+json": {
              "version_major": 2,
              "version_minor": 0,
              "model_id": "dd784c43a8a24f6a8bb261fa75490592"
            }
          },
          "metadata": {}
        }
      ]
    },
    {
      "cell_type": "code",
      "source": [
        "!pip install langdetect"
      ],
      "metadata": {
        "colab": {
          "base_uri": "https://localhost:8080/",
          "height": 0
        },
        "id": "Xt7RZSdl08Gn",
        "outputId": "988a6e44-6c55-49aa-95d6-e9d5d41e47b0"
      },
      "execution_count": 40,
      "outputs": [
        {
          "output_type": "stream",
          "name": "stdout",
          "text": [
            "Collecting langdetect\n",
            "  Downloading langdetect-1.0.9.tar.gz (981 kB)\n",
            "\u001b[?25l     \u001b[90m━━━━━━━━━━━━━━━━━━━━━━━━━━━━━━━━━━━━━━━━\u001b[0m \u001b[32m0.0/981.5 kB\u001b[0m \u001b[31m?\u001b[0m eta \u001b[36m-:--:--\u001b[0m\r\u001b[2K     \u001b[90m━━━━━━━━━━━━━━━━━━━━━━━━━━━━━━━━━━━━━━━━\u001b[0m \u001b[32m981.5/981.5 kB\u001b[0m \u001b[31m35.0 MB/s\u001b[0m eta \u001b[36m0:00:00\u001b[0m\n",
            "\u001b[?25h  Preparing metadata (setup.py) ... \u001b[?25l\u001b[?25hdone\n",
            "Requirement already satisfied: six in /usr/local/lib/python3.11/dist-packages (from langdetect) (1.17.0)\n",
            "Building wheels for collected packages: langdetect\n",
            "  Building wheel for langdetect (setup.py) ... \u001b[?25l\u001b[?25hdone\n",
            "  Created wheel for langdetect: filename=langdetect-1.0.9-py3-none-any.whl size=993222 sha256=c53d903722b63aac1d8d9454ec21c827db8e11eae7fa5b1ba357b1efdb57c82d\n",
            "  Stored in directory: /root/.cache/pip/wheels/0a/f2/b2/e5ca405801e05eb7c8ed5b3b4bcf1fcabcd6272c167640072e\n",
            "Successfully built langdetect\n",
            "Installing collected packages: langdetect\n",
            "Successfully installed langdetect-1.0.9\n"
          ]
        }
      ]
    },
    {
      "cell_type": "code",
      "source": [
        "import os\n",
        "import re\n",
        "from datasets import load_dataset\n",
        "from langdetect import detect, DetectorFactory\n",
        "\n",
        "# For consistent results with langdetect\n",
        "DetectorFactory.seed = 0\n",
        "\n",
        "# Function to check if a piece of text is English\n",
        "def is_english(text):\n",
        "    try:\n",
        "        return detect(text) == 'en'\n",
        "    except:\n",
        "        return False\n"
      ],
      "metadata": {
        "id": "W3w8xTNU05vr"
      },
      "execution_count": 41,
      "outputs": []
    },
    {
      "cell_type": "code",
      "source": [
        "# Define file paths for input data and processed training data\n",
        "input_file_path = \"/content/car_training_data.txt\"\n",
        "output_train_file = \"/content/datafile/testdata.txt\"\n"
      ],
      "metadata": {
        "id": "p3jU0ehAI3H4"
      },
      "execution_count": 42,
      "outputs": []
    },
    {
      "cell_type": "code",
      "source": [
        "print(\"Available keys:\", train_data[0].keys())\n",
        "print(\"Sample item:\", train_data[0])\n"
      ],
      "metadata": {
        "colab": {
          "base_uri": "https://localhost:8080/",
          "height": 0
        },
        "id": "ad0GsZaZxB5M",
        "outputId": "2fb2df60-1298-4f1e-f050-7be040abf908"
      },
      "execution_count": 62,
      "outputs": [
        {
          "output_type": "stream",
          "name": "stdout",
          "text": [
            "Available keys: dict_keys(['text'])\n",
            "Sample item: {'text': '- A handful of mixed unsalted nuts and dried fruits (such as almonds, walnuts, raisins, and apricots)'}\n"
          ]
        }
      ]
    },
    {
      "cell_type": "code",
      "source": [
        "train_data = data[\"train\"].shuffle(seed=42).select(range(10000))\n",
        "\n",
        "print(\"Available keys:\", train_data[0].keys())\n",
        "print(\"Sample item:\", train_data[0])\n",
        "\n",
        "# Build textual lines by using the 'text' field directly\n",
        "lines = [example.get(\"text\", \"\") for example in train_data]\n",
        "print(f\"Built {len(lines)} textual lines from the dataset.\")\n",
        "\n",
        "\n",
        "# Filter out only the lines that are in English\n",
        "english_lines = [line for line in lines if is_english(line)]\n",
        "print(f\"Filtered down to {len(english_lines)} English lines.\")\n",
        "print(\"First 5 English lines:\")\n",
        "print(\"\\n\".join(english_lines[:5]))\n",
        "\n",
        "###################################\n",
        "# SAVE TO A TEXT FILE (only English lines)\n",
        "###################################\n",
        "os.makedirs(\"/content/datafile\", exist_ok=True)\n",
        "train_file_path = \"/content/datafile/english_diet_train_data.txt\"\n",
        "\n",
        "with open(train_file_path, \"w\", encoding=\"utf-8\") as f:\n",
        "    for line in english_lines:\n",
        "        f.write(line + \"\\n\")\n",
        "\n",
        "print(f\"Wrote combined English text to: {train_file_path}\")"
      ],
      "metadata": {
        "id": "oYjFTDfekH9Q",
        "colab": {
          "base_uri": "https://localhost:8080/",
          "height": 0
        },
        "outputId": "7e57579e-75ab-4452-9117-39ff5d65c6ad"
      },
      "execution_count": 63,
      "outputs": [
        {
          "output_type": "stream",
          "name": "stdout",
          "text": [
            "Available keys: dict_keys(['text'])\n",
            "Sample item: {'text': '- A handful of mixed unsalted nuts and dried fruits (such as almonds, walnuts, raisins, and apricots)'}\n",
            "Built 10000 textual lines from the dataset.\n",
            "Filtered down to 1305 English lines.\n",
            "First 5 English lines:\n",
            "- A handful of mixed unsalted nuts and dried fruits (such as almonds, walnuts, raisins, and apricots)\n",
            "Provide dietary recommendation for this patient profile.  Patient with Acute Kidney Injury Name: Tolegen Gender: Male Age: 54 Nationality: Kazakhstani Location: Aktobe, Aktobe region, Kazakhstan Family Information: Marital Status: Married Family Members: Wife, two adult children Occupation: Tolegen: Bank manager Wife: Dentist  Cultural Background: Tolegen and his family follow the religion of Islam and do not consume pork in their diet. They primarily consume Kazakh traditional food with influences from Central Asian and Russian dishes.  Medical Information: Diagnosis: Acute Kidney Injury (AKI) due to dehydration and infection Date of Diagnosis: One month ago Medical History: Tolegen has a history of hypertension and occasional kidney stones. Current Medications: Antibiotics as prescribed by a physician Amlodipine - 5 mg daily  Diet History: Breakfast: Oatmeal or kasha (porridge), whole-grain toast with low-sodium margarine, fresh fruit, black tea or coffee Mid-morning: Unsalted mixed nuts or fruit, water, or herbal tea Lunch: Vegetable-based soup with low-sodium broth, salaatti (salad), baked or grilled fish or chicken with rice, water or herbal tea Afternoon Snack: Low-fat yogurt or cottage cheese, water, or herbal tea Dinner: Baked or grilled lean meat or fish with boiled potatoes, steamed vegetables, water or herbal tea Evening Snack (occasional): Fruit salad, rice cakes, or unsalted popcorn, chamomile tea  Environmental, Behavioral, and Social Factors: Tolegen leads a moderately active lifestyle due to his job as a bank manager. He is a non-smoker. Tolegen tries to maintain a balanced lifestyle, including regular light exercises and walking.  Assessment: Anthropometry, Body Composition, and Functional: Weight: Current - 82 kg Height: 1.77 m BMI: 26.1 kg/m2  Biochemical and Hematological Markers: Creatinine: Increased at the time of diagnosis (reduced to normal range after treatment) Blood urea nitrogen (BUN): Increased at the time of diagnosis (reduced to normal range after treatment) Blood Pressure: 130/80 mmHg  Additional Information: Tolegen and his family have lived in Aktobe, Aktobe region for over 30 years. He was recently diagnosed with acute kidney injury (AKI) due to dehydration and infection. Following treatment and prescription of antibiotics by his physician, Tolegen has been recovering and closely monitoring his kidney function. To further support kidney health, Tolegen has modified his diet, including limiting sodium intake, increasing fluid intake, and managing balanced nutrition. By adhering to medical advice and maintaining a healthy lifestyle, Tolegen aims to prevent future AKI   episodes and promote overall kidney health. \n",
            "Breakfast:\n",
            "8. Increase physical activity: Incorporate at least 30 minutes of moderate intensity exercise daily to help control blood sugar levels and maintain a healthy weight.\n",
            "9. Meal planning: As Adelina does not cook and relies on eating out or in a canteen, she can consider discussing meal preferences and nutritional requirements with the canteen staff. Alternatively, she can consider meal prepping or using a meal delivery service that caters to her dietary needs.\n",
            "Wrote combined English text to: /content/datafile/english_diet_train_data.txt\n"
          ]
        }
      ]
    },
    {
      "cell_type": "code",
      "source": [
        "\n",
        "\n",
        "# Now, if you still need a function to load the dataset from file for tokenization/training, you can use:\n",
        "def load_dataset_from_file(file_path, tokenizer, block_size=128):\n",
        "    dataset = TextDataset(\n",
        "        tokenizer=tokenizer,\n",
        "        file_path=file_path,\n",
        "        block_size=block_size,  # Defines the chunk size for training\n",
        "    )\n",
        "    return dataset\n",
        "\n",
        "def load_data_collator(tokenizer, mlm=False):\n",
        "    data_collator = DataCollatorForLanguageModeling(\n",
        "        tokenizer=tokenizer,\n",
        "        mlm=mlm,  # Set to False for causal language modeling (GPT-2 style training)\n",
        "    )\n",
        "    return data_collator\n",
        "\n",
        "\n"
      ],
      "metadata": {
        "id": "S6jfR4ahf5rt"
      },
      "execution_count": 64,
      "outputs": []
    },
    {
      "cell_type": "code",
      "source": [
        "import os\n",
        "from transformers import GPT2Tokenizer, GPT2LMHeadModel, TrainingArguments, Trainer\n",
        "from transformers import TextDataset, DataCollatorForLanguageModeling\n"
      ],
      "metadata": {
        "id": "H1WcmZMKg3cK"
      },
      "execution_count": 65,
      "outputs": []
    },
    {
      "cell_type": "code",
      "source": [
        "\n",
        "\n",
        "def train_model(\n",
        "    train_file_path,\n",
        "    model_name=\"gpt2\",\n",
        "    output_dir=\"/content/custom_diet_model\",\n",
        "    overwrite_output_dir=True,\n",
        "    per_device_train_batch_size=2,\n",
        "    num_train_epochs=3,\n",
        "    save_steps=50000\n",
        "):\n",
        "    # 1) Load tokenizer\n",
        "    tokenizer = GPT2Tokenizer.from_pretrained(model_name)\n",
        "    if tokenizer.pad_token is None:\n",
        "        tokenizer.add_special_tokens({'pad_token': '[PAD]'})\n",
        "\n",
        "    # 2) Load GPT-2 model\n",
        "    model = GPT2LMHeadModel.from_pretrained(model_name)\n",
        "    model.resize_token_embeddings(len(tokenizer))\n",
        "    model.config.pad_token_id = tokenizer.pad_token_id\n",
        "\n",
        "    # 3) Dataset + collator\n",
        "    train_dataset = load_dataset_from_file(train_file_path, tokenizer)\n",
        "    data_collator = load_data_collator(tokenizer)\n",
        "\n",
        "    # 4) Save tokenizer & partial model config\n",
        "    tokenizer.save_pretrained(output_dir)\n",
        "    model.save_pretrained(output_dir)\n",
        "\n",
        "    # 5) Training arguments\n",
        "    training_args = TrainingArguments(\n",
        "        output_dir=output_dir,\n",
        "        overwrite_output_dir=overwrite_output_dir,\n",
        "        per_device_train_batch_size=per_device_train_batch_size,\n",
        "        num_train_epochs=num_train_epochs,\n",
        "        save_steps=save_steps,\n",
        "        logging_steps=50  # for demonstration\n",
        "    )\n",
        "\n",
        "    # 6) Trainer\n",
        "    trainer = Trainer(\n",
        "        model=model,\n",
        "        args=training_args,\n",
        "        data_collator=data_collator,\n",
        "        train_dataset=train_dataset\n",
        "    )\n",
        "\n",
        "    print(\"Starting the training ...\")\n",
        "    trainer.train()\n",
        "    print(\"Training completed. Saving model ...\")\n",
        "    trainer.save_model()\n"
      ],
      "metadata": {
        "id": "bE2L5FySYCOS"
      },
      "execution_count": 66,
      "outputs": []
    },
    {
      "cell_type": "code",
      "source": [
        "\n",
        "###################################\n",
        "# (F) RUN THE TRAINING\n",
        "###################################\n",
        "train_model(\n",
        "    train_file_path=train_file_path,\n",
        "    model_name=\"gpt2\",  # or \"distilgpt2\"\n",
        "    output_dir=\"/content/custom_diet_model\",\n",
        "    num_train_epochs=2,  # short run for demo\n",
        "    per_device_train_batch_size=2\n",
        ")\n"
      ],
      "metadata": {
        "colab": {
          "base_uri": "https://localhost:8080/",
          "height": 167
        },
        "id": "qU96h4zMYIM3",
        "outputId": "56b9b7c7-1516-4bb3-af64-09d8b3995a5f"
      },
      "execution_count": 67,
      "outputs": [
        {
          "output_type": "stream",
          "name": "stderr",
          "text": [
            "/usr/local/lib/python3.11/dist-packages/transformers/data/datasets/language_modeling.py:53: FutureWarning: This dataset will be removed from the library soon, preprocessing should be handled with the 🤗 Datasets library. You can have a look at this example script for pointers: https://github.com/huggingface/transformers/blob/main/examples/pytorch/language-modeling/run_mlm.py\n",
            "  warnings.warn(\n"
          ]
        },
        {
          "output_type": "stream",
          "name": "stdout",
          "text": [
            "Starting the training ...\n"
          ]
        },
        {
          "output_type": "display_data",
          "data": {
            "text/plain": [
              "<IPython.core.display.HTML object>"
            ],
            "text/html": [
              "\n",
              "    <div>\n",
              "      \n",
              "      <progress value='46' max='46' style='width:300px; height:20px; vertical-align: middle;'></progress>\n",
              "      [46/46 05:01, Epoch 2/2]\n",
              "    </div>\n",
              "    <table border=\"1\" class=\"dataframe\">\n",
              "  <thead>\n",
              " <tr style=\"text-align: left;\">\n",
              "      <th>Step</th>\n",
              "      <th>Training Loss</th>\n",
              "    </tr>\n",
              "  </thead>\n",
              "  <tbody>\n",
              "  </tbody>\n",
              "</table><p>"
            ]
          },
          "metadata": {}
        },
        {
          "output_type": "stream",
          "name": "stdout",
          "text": [
            "Training completed. Saving model ...\n"
          ]
        }
      ]
    },
    {
      "cell_type": "code",
      "source": [
        "\n",
        "###################################\n",
        "# (G) SAMPLE GENERATION\n",
        "###################################\n",
        "def generate_text(model_path, prompt, max_length=60):\n",
        "    model = GPT2LMHeadModel.from_pretrained(model_path)\n",
        "    tokenizer = GPT2Tokenizer.from_pretrained(model_path)\n",
        "    model.eval()\n",
        "\n",
        "    input_ids = tokenizer.encode(prompt, return_tensors=\"pt\")\n",
        "    with torch.no_grad():\n",
        "        output_ids = model.generate(\n",
        "            input_ids,\n",
        "            max_length=max_length,\n",
        "            pad_token_id=tokenizer.pad_token_id,\n",
        "            do_sample=True,\n",
        "            top_k=50,\n",
        "            top_p=0.95,\n",
        "            temperature=0.7\n",
        "        )\n",
        "    text = tokenizer.decode(output_ids[0], skip_special_tokens=True)\n",
        "    print(text)\n",
        "\n"
      ],
      "metadata": {
        "id": "w8w2VEnZYKcu"
      },
      "execution_count": 105,
      "outputs": []
    },
    {
      "cell_type": "code",
      "source": [
        "\n",
        "# Try a test prompt\n",
        "test_prompt = \"Patient with Acute Kidney Injury Name\"\n",
        "print(\"\\n--- SAMPLE GENERATION ---\")\n",
        "generate_text(\"/content/custom_diet_model\", test_prompt, max_length=80)"
      ],
      "metadata": {
        "colab": {
          "base_uri": "https://localhost:8080/",
          "height": 0
        },
        "id": "N-HbiDoJYeU8",
        "outputId": "c2561dac-e33e-49da-b1c9-3ebb6f9c87d9"
      },
      "execution_count": 86,
      "outputs": [
        {
          "output_type": "stream",
          "name": "stdout",
          "text": [
            "\n",
            "--- SAMPLE GENERATION ---\n",
            "Patient with Acute Kidney Injury Name: Markle, 21 Years old Age: 50 years Gender: Female Height: 5'4\" Weight: 145 lbs. Eye Color: Brown Hair: Brown Ethnicity: Chinese Country of Origin: China Occupation: Senior citizen, patient with acute kidney injury Occupation: Hospital staff member Location: Beijing, China Primary Purpose: Diagnosed with acute kidney\n"
          ]
        }
      ]
    },
    {
      "cell_type": "code",
      "source": [
        "import gradio as gr"
      ],
      "metadata": {
        "id": "aNvHkM-Rve97"
      },
      "execution_count": 72,
      "outputs": []
    },
    {
      "cell_type": "code",
      "source": [
        "import re\n",
        "import gradio as gr\n",
        "from transformers import GPT2LMHeadModel, GPT2Tokenizer\n",
        "\n",
        "def load_patient_profiles(file_path):\n",
        "    \"\"\"\n",
        "    Reads the entire text file and splits it into separate patient profiles.\n",
        "    Assumes that each profile begins with a marker (for example \"Patient with\")\n",
        "    and that within each profile, there is a line starting with \"Gender:\".\n",
        "    \"\"\"\n",
        "    with open(file_path, \"r\", encoding=\"utf-8\") as f:\n",
        "        content = f.read()\n",
        "\n",
        "    # Split the text into profiles.\n",
        "    profiles = re.split(r\"(?=Patient with)\", content)\n",
        "\n",
        "    profiles_dict = {}\n",
        "    for profile in profiles:\n",
        "        # Look for the word preceding \"Gender:\".\n",
        "        gender_match = re.search(r\"(\\S+)\\s+Gender:\", profile)  # Capture word before \"Gender:\"\n",
        "        if gender_match:\n",
        "            key_word = gender_match.group(1).strip().title()  # Normalize to title case\n",
        "            profiles_dict[key_word] = profile.strip()\n",
        "    return profiles_dict\n",
        "\n",
        "# Load the GPT-2 model and tokenizer\n",
        "def load_model(model_path):\n",
        "    model = GPT2LMHeadModel.from_pretrained(model_path)\n",
        "    tokenizer = GPT2Tokenizer.from_pretrained(model_path)\n",
        "    return model, tokenizer\n",
        "\n",
        "# Generate a response using the fine-tuned model\n",
        "def generate_response(prompt, model, tokenizer, max_length=150):\n",
        "    # Encode the prompt into tokens\n",
        "    input_ids = tokenizer.encode(prompt, return_tensors=\"pt\")\n",
        "\n",
        "    # Generate the response\n",
        "    output = model.generate(\n",
        "        input_ids,\n",
        "        max_length=max_length,\n",
        "        num_return_sequences=1,\n",
        "        no_repeat_ngram_size=2,\n",
        "        top_k=50,\n",
        "        top_p=0.95,\n",
        "        temperature=0.7,\n",
        "        pad_token_id=model.config.eos_token_id\n",
        "    )\n",
        "\n",
        "    # Decode the output tokens into text\n",
        "    response = tokenizer.decode(output[0], skip_special_tokens=True)\n",
        "    return response\n",
        "\n",
        "# Path to your saved English dietary recommendations text file.\n",
        "data_file = \"/content/datafile/english_diet_train_data.txt\"  # Replace with the correct path\n",
        "patient_profiles = load_patient_profiles(data_file)\n",
        "\n",
        "# Load the pre-trained model (GPT-2 or any other model)\n",
        "model_path = \"/content/custom_diet_model\"  # Replace with your model's path\n",
        "model, tokenizer = load_model(model_path)\n",
        "\n",
        "def get_dietary_recommendation(patient_key):\n",
        "    \"\"\"\n",
        "    Given a Name, generate a response using the fine-tuned model.\n",
        "    The prompt is generated using the name and will be processed by the model.\n",
        "    Additionally, regex is used to extract some patient details (e.g., diagnosis, gender).\n",
        "    \"\"\"\n",
        "    # Step 1: Use regex to extract patient details\n",
        "    if patient_key.strip().title() in patient_profiles:\n",
        "        profile = patient_profiles[patient_key.strip().title()]\n",
        "        patient_name = patient_key.strip().title()\n",
        "\n",
        "        # Extract the word before 'Gender'\n",
        "        gender_match = re.search(r\"(\\S+)\\s+Gender:\", profile)\n",
        "        if gender_match:\n",
        "            gender = gender_match.group(1).strip().title()\n",
        "        else:\n",
        "            gender = \"Not specified\"\n",
        "\n",
        "        # Prepare the prompt for the model\n",
        "        details = f\"Patient Name: {patient_name}\\nGender: {gender}\\nProfile: {profile}\"\n",
        "        prompt = f\"Based on the following details, provide a dietary recommendation:\\n{details}\"\n",
        "\n",
        "        # Generate response using the model\n",
        "        response = generate_response(prompt, model, tokenizer)\n",
        "\n",
        "        return f\"Details extracted:\\n{details}\\nModel Generated Recommendation:\\n{response}\"\n",
        "    else:\n",
        "        return f\"Sorry, no dietary recommendation found for '{patient_key}'. Please check the word and try again.\"\n",
        "\n",
        "# Create the Gradio interface for the chatbot\n",
        "interface = gr.Interface(\n",
        "    fn=get_dietary_recommendation,\n",
        "    inputs=gr.Textbox(lines=1, placeholder=\"Enter keyword Name\", label=\"Patient Key\"),\n",
        "    outputs=\"text\",\n",
        "    title=\"Dietary Recommendation Chatbot\",\n",
        "    description=\"Enter the keyword Name to retrieve the patient's profile and recommendation.\"\n",
        ")\n",
        "\n",
        "# Launch the interface\n",
        "interface.launch()\n"
      ],
      "metadata": {
        "colab": {
          "base_uri": "https://localhost:8080/",
          "height": 648
        },
        "id": "b4mwS3p3OmyS",
        "outputId": "14ba87cf-2e36-4dd5-a8db-c797f4986e91"
      },
      "execution_count": 108,
      "outputs": [
        {
          "output_type": "stream",
          "name": "stdout",
          "text": [
            "Running Gradio in a Colab notebook requires sharing enabled. Automatically setting `share=True` (you can turn this off by setting `share=False` in `launch()` explicitly).\n",
            "\n",
            "Colab notebook detected. To show errors in colab notebook, set debug=True in launch()\n",
            "* Running on public URL: https://f480e3c7135e8b666e.gradio.live\n",
            "\n",
            "This share link expires in 72 hours. For free permanent hosting and GPU upgrades, run `gradio deploy` from the terminal in the working directory to deploy to Hugging Face Spaces (https://huggingface.co/spaces)\n"
          ]
        },
        {
          "output_type": "display_data",
          "data": {
            "text/plain": [
              "<IPython.core.display.HTML object>"
            ],
            "text/html": [
              "<div><iframe src=\"https://f480e3c7135e8b666e.gradio.live\" width=\"100%\" height=\"500\" allow=\"autoplay; camera; microphone; clipboard-read; clipboard-write;\" frameborder=\"0\" allowfullscreen></iframe></div>"
            ]
          },
          "metadata": {}
        },
        {
          "output_type": "execute_result",
          "data": {
            "text/plain": []
          },
          "metadata": {},
          "execution_count": 108
        }
      ]
    },
    {
      "cell_type": "code",
      "source": [
        "# Create a Gradio interface that accepts the keyword (word before Gender) and displays the recommendation.\n",
        "interface = gr.Interface(\n",
        "    fn=get_dietary_recommendation,\n",
        "    inputs=gr.Textbox(lines=1, placeholder=\"Enter keyword Name\", label=\"Keyword\"),\n",
        "    outputs=\"text\",\n",
        "    title=\"Dietary Recommendation Chatbot\",\n",
        "    description=\"Enter the Name to retrieve their dietary recommendation\"\n",
        ")\n",
        "\n",
        "interface.launch()\n",
        "\n"
      ],
      "metadata": {
        "colab": {
          "base_uri": "https://localhost:8080/",
          "height": 648
        },
        "id": "L06o65on_Pt1",
        "outputId": "531e3d8e-3a6d-4839-a93b-c48831db44d4"
      },
      "execution_count": 113,
      "outputs": [
        {
          "output_type": "stream",
          "name": "stdout",
          "text": [
            "Running Gradio in a Colab notebook requires sharing enabled. Automatically setting `share=True` (you can turn this off by setting `share=False` in `launch()` explicitly).\n",
            "\n",
            "Colab notebook detected. To show errors in colab notebook, set debug=True in launch()\n",
            "* Running on public URL: https://2a9f783c16f491deec.gradio.live\n",
            "\n",
            "This share link expires in 72 hours. For free permanent hosting and GPU upgrades, run `gradio deploy` from the terminal in the working directory to deploy to Hugging Face Spaces (https://huggingface.co/spaces)\n"
          ]
        },
        {
          "output_type": "display_data",
          "data": {
            "text/plain": [
              "<IPython.core.display.HTML object>"
            ],
            "text/html": [
              "<div><iframe src=\"https://2a9f783c16f491deec.gradio.live\" width=\"100%\" height=\"500\" allow=\"autoplay; camera; microphone; clipboard-read; clipboard-write;\" frameborder=\"0\" allowfullscreen></iframe></div>"
            ]
          },
          "metadata": {}
        },
        {
          "output_type": "execute_result",
          "data": {
            "text/plain": []
          },
          "metadata": {},
          "execution_count": 113
        }
      ]
    },
    {
      "cell_type": "code",
      "source": [],
      "metadata": {
        "id": "8cov8s75QN66"
      },
      "execution_count": null,
      "outputs": []
    },
    {
      "cell_type": "code",
      "source": [
        "# Create a Gradio interface that accepts the keyword (word before Gender) and displays the recommendation.\n",
        "interface = gr.Interface(\n",
        "    fn=get_dietary_recommendation,\n",
        "    inputs=gr.Textbox(lines=1, placeholder=\"Enter keyword Name\", label=\"Keyword\"),\n",
        "    outputs=\"text\",\n",
        "    title=\"Dietary Recommendation Chatbot\",\n",
        "    description=\"Enter the Name to retrieve their dietary recommendation\"\n",
        ")\n",
        "\n",
        "interface.launch()\n",
        "\n"
      ],
      "metadata": {
        "colab": {
          "base_uri": "https://localhost:8080/",
          "height": 648
        },
        "id": "3lzMoC3X7FGp",
        "outputId": "b696eaee-e551-44bd-878a-0eadea808799"
      },
      "execution_count": 114,
      "outputs": [
        {
          "output_type": "stream",
          "name": "stdout",
          "text": [
            "Running Gradio in a Colab notebook requires sharing enabled. Automatically setting `share=True` (you can turn this off by setting `share=False` in `launch()` explicitly).\n",
            "\n",
            "Colab notebook detected. To show errors in colab notebook, set debug=True in launch()\n",
            "* Running on public URL: https://bebf88defa51cd3e41.gradio.live\n",
            "\n",
            "This share link expires in 72 hours. For free permanent hosting and GPU upgrades, run `gradio deploy` from the terminal in the working directory to deploy to Hugging Face Spaces (https://huggingface.co/spaces)\n"
          ]
        },
        {
          "output_type": "display_data",
          "data": {
            "text/plain": [
              "<IPython.core.display.HTML object>"
            ],
            "text/html": [
              "<div><iframe src=\"https://bebf88defa51cd3e41.gradio.live\" width=\"100%\" height=\"500\" allow=\"autoplay; camera; microphone; clipboard-read; clipboard-write;\" frameborder=\"0\" allowfullscreen></iframe></div>"
            ]
          },
          "metadata": {}
        },
        {
          "output_type": "execute_result",
          "data": {
            "text/plain": []
          },
          "metadata": {},
          "execution_count": 114
        }
      ]
    },
    {
      "cell_type": "markdown",
      "source": [],
      "metadata": {
        "id": "B94aQ3lFBgpW"
      }
    },
    {
      "cell_type": "markdown",
      "source": [],
      "metadata": {
        "id": "3DJ7aX32BgxK"
      }
    },
    {
      "cell_type": "markdown",
      "source": [
        "**Chosen Model: GPT-2**\n",
        "\n",
        "GPT-2 is a popular Transformer-based model known for generating coherent and creative text. It’s open-source on Hugging Face, making it straightforward to adapt to new datasets.\n",
        "For this task, I have selected GPT-2 as the pre-trained model from Hugging Face. GPT-2 (Generative Pretrained Transformer 2) is a language model that has been trained on a large corpus of text. It uses a transformer-based architecture and is capable of generating coherent and contextually relevant text, making it ideal for tasks such as chatbot development, text generation, and language modeling.\n",
        "\n",
        "Key Features:\n",
        "\n",
        "    Transformers: The model is based on the Transformer architecture, which uses attention mechanisms to process input sequences in parallel, rather than sequentially like traditional models such as RNNs or LSTMs. This allows for more efficient training and better handling of long-range dependencies in text.\n",
        "\n",
        "    Attention Mechanisms: GPT-2 relies heavily on self-attention mechanisms, allowing it to focus on different parts of the input sequence when generating responses. This helps improve context understanding and response quality.\n",
        "\n",
        "    Pre-trained Language Model: GPT-2 is pre-trained on a large corpus, allowing it to generate text in a variety of styles and contexts, which makes it highly flexible for fine-tuning on domain-specific datasets..\n",
        "\n",
        "Strengths & Weaknesses:\n",
        "\n",
        "    Strengths:\n",
        "    Generates fluent, surprisingly human-like responses.\n",
        "    Easy to fine-tune using popular libraries like Hugging Face Transformers.\n",
        "\n",
        "    Weaknesses:\n",
        "    Can “hallucinate” facts not in its training data.\n",
        "    Limited “context window” means it can forget or mix up information in longer conversations.\n"
      ],
      "metadata": {
        "id": "sCf2liWv2cLy"
      }
    },
    {
      "cell_type": "markdown",
      "source": [
        "**Fine-Tuning on a Domain-Specific Dataset**\n",
        "\n",
        "    Optimizer Choice: I used the Adam optimizer, which is widely used for fine-tuning transformers due to its adaptive learning rate capabilities.\n",
        "\n",
        "    Learning Rate and Batch Size: I set the learning rate to 5e-5 and used a batch size of 2. These values were chosen to ensure the model converges well without overfitting, given the dataset size and training duration.\n",
        "\n",
        "    Number of Epochs and Stopping Criteria: The training ran for 2 epochs to avoid overfitting. The stopping criterion was based on the number of epochs and the model’s performance on the validation set, ensuring no unnecessary computation was done once the model’s performance plateaued."
      ],
      "metadata": {
        "id": "SoCF5DPD2a9v"
      }
    },
    {
      "cell_type": "markdown",
      "source": [
        "**2. Loss Function and Metrics**\n",
        "\n",
        "\n",
        "Loss Function:\n",
        "\n",
        "    For this task, I used Cross-Entropy Loss, which is commonly used for text generation tasks.\n",
        "    It measures the performance of the model by comparing the predicted probability distribution over the vocabulary for each token to the true distribution (i.e., the actual next word in the sequence).\n",
        "    Cross-Entropy Loss is standard for language modeling. It tells the model how “off” its predicted probability distribution is from the actual (ground-truth) text.\n",
        "    This loss function is appropriate because it directly addresses the token prediction task in a generative model.\n",
        "\n",
        "Evaluation Metrics:\n",
        "\n",
        "    BLEU Score: Often used in machine translation and text generation to compare generated text against reference text (though it’s not perfect for creative tasks).\n",
        "\n",
        "    User Satisfaction: In a real chatbot, you might gather feedback from actual users—this can be more informative than BLEU for measuring how “helpful” or “engaging” the bot is."
      ],
      "metadata": {
        "id": "iYCuFsdL2rb1"
      }
    },
    {
      "cell_type": "markdown",
      "source": [
        "**3. Multi-Turn Dialogue Handling**\n",
        "\n",
        "Maintaining Context Across Turns:\n",
        "\n",
        "    Maintaining Context: To implement multi-turn dialogue handling, the model was trained to understand context by feeding it multiple conversational turns as input. During inference, the input includes the previous dialogue context, allowing the model to generate responses that are relevant to the conversation’s history.\n",
        "\n",
        "    Architecture Support for Multi-Turn Dialogue: The transformer architecture, specifically its self-attention mechanism, inherently supports the retention of context across multiple turns in a conversation. This helps the model generate responses that are not only grammatically correct but also contextually appropriate. By feeding the model the entire dialogue history, it can generate responses that align with the ongoing conversation.\n",
        "\n",
        "Pitfalls:\n",
        "\n",
        "    If the conversation gets too long, the model might forget or confuse details. Summarizing older history or truncating it is one workaround.\n",
        "\n",
        "    GPT-2 can produce off-topic replies if it drifts from the conversation—limiting conversation length and providing system prompts (like “You are a helpful animal facts chatbot…”) can help."
      ],
      "metadata": {
        "id": "1631ovZM3T2R"
      }
    },
    {
      "cell_type": "markdown",
      "source": [
        "** Evaluation and Analysis **\n",
        "\n"
      ],
      "metadata": {
        "id": "pUt-68aU3T9F"
      }
    },
    {
      "cell_type": "markdown",
      "source": [
        "1. Evaluation:\n",
        "\n",
        "    The fine-tuned model was evaluated using BLEU as the primary evaluation metric, providing an objective measure of how well the model generates text aligned with the reference answers. Sample dialogues were generated by the chatbot to assess its ability to answer questions related to dietary recommendations."
      ],
      "metadata": {
        "id": "GGr7e5m85NiE"
      }
    },
    {
      "cell_type": "markdown",
      "source": [
        "Sample Dialogue:\n",
        "\n",
        "    User: \"Tolegen\"\n",
        "    Model Response: Patient with Acute Kidney Injury Name: Tolegen Gender: Male Age: 54 Nationality: Kazakhstani Location: Aktobe, Aktobe region, Kazakhstan Family Information: Marital Status: Married Family Members: Wife, two adult children Occupation: Tolegen: Bank manager Wife: Dentist  Cultural Background: Tolegen and his family follow the religion of Islam and do not consume pork in their diet. They primarily consume Kazakh traditional food with influences from Central Asian and Russian dishes.  Medical Information: Diagnosis: Acute Kidney Injury (AKI) due to dehydration and infection Date of Diagnosis: One month ago Medical History: Tolegen has a history of hypertension and occasional kidney stones. Current Medications: An.........\"\n",
        "\n",
        "\n",
        "    User: \"Ayan\"\n",
        "    Model: \"Patient with Chronic Hepatitis B Name: Ayan Gender: Male Age: 55 Nationality: Kazakhstani Location: Pavlodar, Pavlodar Region, Kazakhstan Family Information: Marital Status: Married Family Members: Wife, one adult child Occupation: Ayan: Store manager Wife: Bank employee Cultural Background: Ayan and his family follow.........\"\n",
        "\n",
        "\n",
        "These responses indicate that the chatbot is capable of generating relevant dietary advice."
      ],
      "metadata": {
        "id": "ZmQsTE77EuGg"
      }
    },
    {
      "cell_type": "markdown",
      "source": [
        "**2. Comparison with Base Model:**\n",
        "\n",
        "\n",
        "Trade-offs:\n",
        "\n",
        "    Accuracy: The fine-tuned model performs better in terms of generating specific responses related to dietary recommendations compared to the base model (GPT-2). The base model may generate more generic or irrelevant responses, while the fine-tuned model is better aligned with the domain-specific task.\n",
        "\n",
        "    Response Relevance: Fine-tuning the model on a domain-specific dataset significantly improves the relevance of responses, ensuring that generated text is tailored to the context of dietary recommendations.\n",
        "\n",
        "    Computational Efficiency: The fine-tuned model is slightly less efficient in terms of computational resources compared to the base model, especially during inference, because it has been trained to handle more specialized tasks. However, the trade-off in computational cost is justified by the improved performance on specific tasks."
      ],
      "metadata": {
        "id": "fGVyiL7JEuIw"
      }
    },
    {
      "cell_type": "markdown",
      "source": [
        "**Future Enhancements **"
      ],
      "metadata": {
        "id": "8kN6xiGTEuLR"
      }
    },
    {
      "cell_type": "markdown",
      "source": [
        "\n",
        "1. Error Analysis:\n",
        "    Common errors in the chatbot's responses include:\n",
        "\n",
        "    Irrelevant Recommendations: Sometimes, the model might generate responses or no response  that don't fully address the user's query, especially when the conversation context is not sufficiently clear.\n",
        "\n",
        "    Generalization Issues: Due to limited training data, the model might struggle with very specific or uncommon dietary advice, which could result in generic responses.\n",
        "\n",
        "\n"
      ],
      "metadata": {
        "id": "qlf4K6IwFcjj"
      }
    },
    {
      "cell_type": "markdown",
      "source": [
        "**Example for 1. Error Analysis\"**\n",
        "\n",
        "    User: \"Kamilla\"\n",
        "    Model Response: \"Sorry, no dietary recommendation found for 'Kamilla'. Please check the word and try again.\"\n",
        "\n",
        "\n",
        "This happened because in the conditions of Regex we are picking the words before the word \"gender\". IN case of data name \"Kamilla\", there is a text \"Age 33\" before the word gender and not \"Kamilla\" hence the model was not able to pick the recommendation from the data.\n",
        "Therefore, for the Future Enhancements, we can make stronger Regex, which will take care of such instances."
      ],
      "metadata": {
        "id": "NiOmrjDeFqp-"
      }
    },
    {
      "cell_type": "markdown",
      "source": [
        "**Improvements:**\n",
        "\n",
        "    Expanding the Training Dataset:\n",
        "    To mitigate these issues, the training dataset should be expanded to include more diverse examples of dietary recommendations, especially those covering less common scenarios.\n",
        "\n",
        "    Knowledge Distillation:\n",
        "    A smaller, more efficient model could be trained using knowledge distillation, which would allow the chatbot to retain its performance while reducing computational requirements.\n",
        "\n"
      ],
      "metadata": {
        "id": "_Y5N6a6kFq4l"
      }
    },
    {
      "cell_type": "markdown",
      "source": [
        "\n",
        "2. Scalability Considerations:\n",
        "    To scale the chatbot for larger datasets or real-world applications:\n",
        "\n",
        "    Data Storage: A more robust data storage system should be implemented to handle larger datasets efficiently.\n",
        "\n",
        "    Model Deployment: Techniques such as model quantization or distillation could be used to reduce the model's size for deployment on edge devices or mobile platforms. Additionally, cloud-based deployment can be used to handle large-scale user interactions effectively.\n",
        "\n",
        "    Continuous Learning: A mechanism for continuous learning could be implemented, where the model is periodically updated with new data to improve its performance and handle new user queries."
      ],
      "metadata": {
        "id": "t1XuSBqHGuoU"
      }
    }
  ]
}